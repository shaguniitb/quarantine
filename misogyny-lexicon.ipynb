{
 "cells": [
  {
   "cell_type": "code",
   "execution_count": 1,
   "metadata": {},
   "outputs": [],
   "source": [
    "import pandas as pd\n",
    "import numpy as np\n",
    "from sklearn.feature_extraction.text import CountVectorizer\n",
    "from glob import glob\n",
    "import csv\n",
    "import os\n",
    "import json\n",
    "import codecs\n",
    "import re"
   ]
  },
  {
   "cell_type": "code",
   "execution_count": 2,
   "metadata": {},
   "outputs": [],
   "source": [
    "from getMisogynyLexicon import *\n",
    "CATEGORY_NAMES, CATEGORY_WORDS = get_lexicon()\n",
    "misogyny_lexicon = list()\n",
    "\n",
    "for key in CATEGORY_WORDS:\n",
    "    for word in CATEGORY_WORDS[key]:\n",
    "        misogyny_lexicon.append(word)\n",
    "        \n",
    "sage_lex = pd.DataFrame()\n",
    "sage_lex['word'] = misogyny_lexicon\n",
    "sage_lex = sage_lex.drop_duplicates()\n",
    "\n",
    "cv = CountVectorizer(vocabulary = sage_lex.word)\n",
    "\n",
    "##tokenizer to get the number of words in the sentence\n",
    "from nltk.tokenize import RegexpTokenizer\n",
    "tokenizer = RegexpTokenizer(r'\\w+')"
   ]
  },
  {
   "cell_type": "code",
   "execution_count": 3,
   "metadata": {},
   "outputs": [],
   "source": [
    "# ####store the corresponding hate speech usage for each window size\n",
    "# window_n = []\n",
    "# hate_usage_n = []\n",
    "# volume_n = []\n",
    "# offset = 0\n",
    "# totalWords_n = []\n",
    "# labeled_n = []\n",
    "\n",
    "# arr = cv.fit_transform(df1.body).toarray()\n",
    "# #             print \"Hate usage = \", np.sum(arr)\n",
    "# #             print \"Total posts = \", len(arr)\n",
    "# postbanhate_iter += np.sum(arr)\n",
    "# postbantotal_iter += len(arr)\n",
    "# postbanhate += np.sum(arr)\n",
    "# postbantotal += len(arr)\n",
    "# for text in df1.body:\n",
    "#     prebanWords_iter += len(tokenizer.tokenize(text))\n",
    "# arr = label.fit_transform(df1.body).toarray()\n",
    "# prebanLabeled_iter += np.sum(arr)\n",
    "\n",
    "#     hate_usage_n.append(postbanhate_iter)\n",
    "#     volume_n.append(postbantotal_iter)\n",
    "#     totalWords_n.append(prebanWords_iter)\n",
    "#     labeled_n.append(prebanLabeled_iter)\n",
    "# ##convert into pandas dataframe\n",
    "# #     print \"Outta loop\"\n",
    "\n",
    "# usernam = []\n",
    "\n",
    "# for i in range(0,len(window_n)):\n",
    "#     usernam.append(username)\n",
    "# usage['user'] = usernam\n",
    "# usage['day'] = window_n\n",
    "# usage['hate_speech'] = hate_usage_n\n",
    "# usage['total_posts'] = volume_n\n",
    "# usage['total_words'] = totalWords_n\n",
    "# usage['labeled_hate'] = labeled_n\n",
    "\n",
    "# overall_usage = pd.concat([overall_usage,usage])"
   ]
  },
  {
   "cell_type": "code",
   "execution_count": 4,
   "metadata": {},
   "outputs": [
    {
     "name": "stderr",
     "output_type": "stream",
     "text": [
      "/nethome/eshwar3/anaconda3/lib/python3.7/site-packages/IPython/core/interactiveshell.py:3049: DtypeWarning: Columns (2) have mixed types. Specify dtype option on import or set low_memory=False.\n",
      "  interactivity=interactivity, compiler=compiler, result=result)\n"
     ]
    }
   ],
   "source": [
    "treatment_comments = pd.read_csv('/mnt/storage/quarantine/data/TheRedPill-comments.csv')\n",
    "treatment_comments = treatment_comments[~ (treatment_comments.author == \"[deleted]\")]\n",
    "\n",
    "hate_iter = 0\n",
    "totalWords_iter = 0\n",
    "\n",
    "df = treatment_comments[:100]"
   ]
  },
  {
   "cell_type": "code",
   "execution_count": 24,
   "metadata": {},
   "outputs": [],
   "source": [
    "\n"
   ]
  },
  {
   "cell_type": "code",
   "execution_count": null,
   "metadata": {},
   "outputs": [],
   "source": []
  },
  {
   "cell_type": "code",
   "execution_count": null,
   "metadata": {},
   "outputs": [],
   "source": []
  },
  {
   "cell_type": "code",
   "execution_count": null,
   "metadata": {},
   "outputs": [],
   "source": []
  }
 ],
 "metadata": {
  "kernelspec": {
   "display_name": "Python 3",
   "language": "python",
   "name": "python3"
  },
  "language_info": {
   "codemirror_mode": {
    "name": "ipython",
    "version": 3
   },
   "file_extension": ".py",
   "mimetype": "text/x-python",
   "name": "python",
   "nbconvert_exporter": "python",
   "pygments_lexer": "ipython3",
   "version": "3.7.3"
  }
 },
 "nbformat": 4,
 "nbformat_minor": 2
}
