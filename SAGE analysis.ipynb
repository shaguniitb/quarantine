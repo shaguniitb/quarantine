{
 "cells": [
  {
   "cell_type": "markdown",
   "metadata": {},
   "source": [
    "# Data preparation"
   ]
  },
  {
   "cell_type": "code",
   "execution_count": 70,
   "metadata": {},
   "outputs": [],
   "source": [
    "import pandas as pd\n",
    "import glob\n",
    "from tqdm import tqdm\n",
    "import sage\n",
    "from collections import Counter\n",
    "import numpy as np\n",
    "import matplotlib.pyplot as plt\n",
    "%matplotlib inline"
   ]
  },
  {
   "cell_type": "code",
   "execution_count": 32,
   "metadata": {},
   "outputs": [
    {
     "name": "stdout",
     "output_type": "stream",
     "text": [
      "232859\n"
     ]
    },
    {
     "name": "stderr",
     "output_type": "stream",
     "text": [
      "/nethome/eshwar3/anaconda3/lib/python3.7/site-packages/IPython/core/interactiveshell.py:3049: DtypeWarning: Columns (2) have mixed types. Specify dtype option on import or set low_memory=False.\n",
      "  interactivity=interactivity, compiler=compiler, result=result)\n"
     ]
    }
   ],
   "source": [
    "datapath = \"/mnt/storage/quarantine/data/\"\n",
    "treatment_df = pd.read_csv(datapath + \"TheRedPill-comments.csv\")\n",
    "treatment_data = treatment_df[['body']]\n",
    "treatment_size = treatment_data.shape[0]\n",
    "print(treatment_size)"
   ]
  },
  {
   "cell_type": "code",
   "execution_count": 28,
   "metadata": {},
   "outputs": [
    {
     "name": "stderr",
     "output_type": "stream",
     "text": [
      "  1%|          | 1/100 [00:01<02:11,  1.33s/it]"
     ]
    },
    {
     "name": "stdout",
     "output_type": "stream",
     "text": [
      "processed: /mnt/storage/quarantine/data/control_subreddit_comments/Shitstatistssay.csv\n"
     ]
    },
    {
     "name": "stderr",
     "output_type": "stream",
     "text": [
      "/nethome/eshwar3/anaconda3/lib/python3.7/site-packages/IPython/core/interactiveshell.py:3049: DtypeWarning: Columns (19) have mixed types. Specify dtype option on import or set low_memory=False.\n",
      "  interactivity=interactivity, compiler=compiler, result=result)\n",
      "  2%|▏         | 2/100 [00:05<03:29,  2.14s/it]"
     ]
    },
    {
     "name": "stdout",
     "output_type": "stream",
     "text": [
      "processed: /mnt/storage/quarantine/data/control_subreddit_comments/steroids.csv\n"
     ]
    },
    {
     "name": "stderr",
     "output_type": "stream",
     "text": [
      "  3%|▎         | 3/100 [00:13<06:09,  3.81s/it]"
     ]
    },
    {
     "name": "stdout",
     "output_type": "stream",
     "text": [
      "processed: /mnt/storage/quarantine/data/control_subreddit_comments/NoFap.csv\n"
     ]
    },
    {
     "name": "stderr",
     "output_type": "stream",
     "text": [
      "  4%|▍         | 4/100 [00:15<05:16,  3.30s/it]"
     ]
    },
    {
     "name": "stdout",
     "output_type": "stream",
     "text": [
      "processed: /mnt/storage/quarantine/data/control_subreddit_comments/AskThe_Donald.csv\n"
     ]
    },
    {
     "name": "stderr",
     "output_type": "stream",
     "text": [
      "  5%|▌         | 5/100 [00:15<03:46,  2.39s/it]"
     ]
    },
    {
     "name": "stdout",
     "output_type": "stream",
     "text": [
      "processed: /mnt/storage/quarantine/data/control_subreddit_comments/DarkEnlightenment.csv\n"
     ]
    },
    {
     "name": "stderr",
     "output_type": "stream",
     "text": [
      "  6%|▌         | 6/100 [00:25<07:25,  4.74s/it]"
     ]
    },
    {
     "name": "stdout",
     "output_type": "stream",
     "text": [
      "processed: /mnt/storage/quarantine/data/control_subreddit_comments/KotakuInAction.csv\n"
     ]
    },
    {
     "name": "stderr",
     "output_type": "stream",
     "text": [
      "  7%|▋         | 7/100 [00:26<05:24,  3.49s/it]"
     ]
    },
    {
     "name": "stdout",
     "output_type": "stream",
     "text": [
      "processed: /mnt/storage/quarantine/data/control_subreddit_comments/askseddit.csv\n"
     ]
    },
    {
     "name": "stderr",
     "output_type": "stream",
     "text": [
      "/nethome/eshwar3/anaconda3/lib/python3.7/site-packages/IPython/core/interactiveshell.py:3049: DtypeWarning: Columns (18) have mixed types. Specify dtype option on import or set low_memory=False.\n",
      "  interactivity=interactivity, compiler=compiler, result=result)\n",
      "  8%|▊         | 8/100 [00:27<04:20,  2.83s/it]"
     ]
    },
    {
     "name": "stdout",
     "output_type": "stream",
     "text": [
      "processed: /mnt/storage/quarantine/data/control_subreddit_comments/Trufemcels.csv\n"
     ]
    },
    {
     "name": "stderr",
     "output_type": "stream",
     "text": [
      "  9%|▉         | 9/100 [00:28<03:21,  2.21s/it]"
     ]
    },
    {
     "name": "stdout",
     "output_type": "stream",
     "text": [
      "processed: /mnt/storage/quarantine/data/control_subreddit_comments/justlegbeardthings.csv\n"
     ]
    },
    {
     "name": "stderr",
     "output_type": "stream",
     "text": [
      " 10%|█         | 10/100 [00:29<02:54,  1.94s/it]"
     ]
    },
    {
     "name": "stdout",
     "output_type": "stream",
     "text": [
      "processed: /mnt/storage/quarantine/data/control_subreddit_comments/selfimprovement.csv\n"
     ]
    },
    {
     "name": "stderr",
     "output_type": "stream",
     "text": [
      " 11%|█         | 11/100 [00:30<02:29,  1.68s/it]"
     ]
    },
    {
     "name": "stdout",
     "output_type": "stream",
     "text": [
      "processed: /mnt/storage/quarantine/data/control_subreddit_comments/Stoicism.csv\n"
     ]
    },
    {
     "name": "stderr",
     "output_type": "stream",
     "text": [
      "/nethome/eshwar3/anaconda3/lib/python3.7/site-packages/IPython/core/interactiveshell.py:3049: DtypeWarning: Columns (3,7,14) have mixed types. Specify dtype option on import or set low_memory=False.\n",
      "  interactivity=interactivity, compiler=compiler, result=result)\n",
      " 12%|█▏        | 12/100 [00:34<03:15,  2.22s/it]"
     ]
    },
    {
     "name": "stdout",
     "output_type": "stream",
     "text": [
      "processed: /mnt/storage/quarantine/data/control_subreddit_comments/metacanada.csv\n"
     ]
    },
    {
     "name": "stderr",
     "output_type": "stream",
     "text": [
      "/nethome/eshwar3/anaconda3/lib/python3.7/site-packages/IPython/core/interactiveshell.py:3049: DtypeWarning: Columns (5) have mixed types. Specify dtype option on import or set low_memory=False.\n",
      "  interactivity=interactivity, compiler=compiler, result=result)\n",
      " 13%|█▎        | 13/100 [00:39<04:25,  3.05s/it]"
     ]
    },
    {
     "name": "stdout",
     "output_type": "stream",
     "text": [
      "processed: /mnt/storage/quarantine/data/control_subreddit_comments/MensRights.csv\n"
     ]
    },
    {
     "name": "stderr",
     "output_type": "stream",
     "text": [
      "/nethome/eshwar3/anaconda3/lib/python3.7/site-packages/IPython/core/interactiveshell.py:3049: DtypeWarning: Columns (0,1,2,4,5,8,9,10,15,16,18,19) have mixed types. Specify dtype option on import or set low_memory=False.\n",
      "  interactivity=interactivity, compiler=compiler, result=result)\n",
      " 14%|█▍        | 14/100 [00:48<07:04,  4.93s/it]"
     ]
    },
    {
     "name": "stdout",
     "output_type": "stream",
     "text": [
      "processed: /mnt/storage/quarantine/data/control_subreddit_comments/Drama.csv\n"
     ]
    },
    {
     "name": "stderr",
     "output_type": "stream",
     "text": [
      " 15%|█▌        | 15/100 [00:50<05:40,  4.01s/it]"
     ]
    },
    {
     "name": "stdout",
     "output_type": "stream",
     "text": [
      "processed: /mnt/storage/quarantine/data/control_subreddit_comments/tressless.csv\n"
     ]
    },
    {
     "name": "stderr",
     "output_type": "stream",
     "text": [
      " 16%|█▌        | 16/100 [00:52<04:39,  3.33s/it]"
     ]
    },
    {
     "name": "stdout",
     "output_type": "stream",
     "text": [
      "processed: /mnt/storage/quarantine/data/control_subreddit_comments/pornfree.csv\n"
     ]
    },
    {
     "name": "stderr",
     "output_type": "stream",
     "text": [
      " 17%|█▋        | 17/100 [00:53<03:41,  2.67s/it]"
     ]
    },
    {
     "name": "stdout",
     "output_type": "stream",
     "text": [
      "processed: /mnt/storage/quarantine/data/control_subreddit_comments/askMRP.csv\n"
     ]
    },
    {
     "name": "stderr",
     "output_type": "stream",
     "text": [
      " 18%|█▊        | 18/100 [00:54<02:58,  2.18s/it]"
     ]
    },
    {
     "name": "stdout",
     "output_type": "stream",
     "text": [
      "processed: /mnt/storage/quarantine/data/control_subreddit_comments/nSuns.csv\n"
     ]
    },
    {
     "name": "stderr",
     "output_type": "stream",
     "text": [
      " 19%|█▉        | 19/100 [00:59<04:16,  3.17s/it]"
     ]
    },
    {
     "name": "stdout",
     "output_type": "stream",
     "text": [
      "processed: /mnt/storage/quarantine/data/control_subreddit_comments/datingoverthirty.csv\n"
     ]
    },
    {
     "name": "stderr",
     "output_type": "stream",
     "text": [
      " 20%|██        | 20/100 [01:00<03:25,  2.56s/it]"
     ]
    },
    {
     "name": "stdout",
     "output_type": "stream",
     "text": [
      "processed: /mnt/storage/quarantine/data/control_subreddit_comments/TheNewRight.csv\n"
     ]
    },
    {
     "name": "stderr",
     "output_type": "stream",
     "text": [
      " 21%|██        | 21/100 [01:03<03:18,  2.52s/it]"
     ]
    },
    {
     "name": "stdout",
     "output_type": "stream",
     "text": [
      "processed: /mnt/storage/quarantine/data/control_subreddit_comments/weightroom.csv\n"
     ]
    },
    {
     "name": "stderr",
     "output_type": "stream",
     "text": [
      " 22%|██▏       | 22/100 [01:05<02:59,  2.31s/it]"
     ]
    },
    {
     "name": "stdout",
     "output_type": "stream",
     "text": [
      "processed: /mnt/storage/quarantine/data/control_subreddit_comments/antinatalism.csv\n"
     ]
    },
    {
     "name": "stderr",
     "output_type": "stream",
     "text": [
      " 23%|██▎       | 23/100 [01:07<03:05,  2.40s/it]"
     ]
    },
    {
     "name": "stdout",
     "output_type": "stream",
     "text": [
      "processed: /mnt/storage/quarantine/data/control_subreddit_comments/zen.csv\n"
     ]
    },
    {
     "name": "stderr",
     "output_type": "stream",
     "text": [
      " 24%|██▍       | 24/100 [01:08<02:29,  1.96s/it]"
     ]
    },
    {
     "name": "stdout",
     "output_type": "stream",
     "text": [
      "processed: /mnt/storage/quarantine/data/control_subreddit_comments/PussyPass.csv\n"
     ]
    },
    {
     "name": "stderr",
     "output_type": "stream",
     "text": [
      " 25%|██▌       | 25/100 [01:09<02:07,  1.71s/it]"
     ]
    },
    {
     "name": "stdout",
     "output_type": "stream",
     "text": [
      "processed: /mnt/storage/quarantine/data/control_subreddit_comments/StackAdvice.csv\n"
     ]
    },
    {
     "name": "stderr",
     "output_type": "stream",
     "text": [
      " 26%|██▌       | 26/100 [01:13<02:49,  2.29s/it]"
     ]
    },
    {
     "name": "stdout",
     "output_type": "stream",
     "text": [
      "processed: /mnt/storage/quarantine/data/control_subreddit_comments/ShitPoliticsSays.csv\n"
     ]
    },
    {
     "name": "stderr",
     "output_type": "stream",
     "text": [
      " 27%|██▋       | 27/100 [01:14<02:27,  2.02s/it]"
     ]
    },
    {
     "name": "stdout",
     "output_type": "stream",
     "text": [
      "processed: /mnt/storage/quarantine/data/control_subreddit_comments/Semenretention.csv\n"
     ]
    },
    {
     "name": "stderr",
     "output_type": "stream",
     "text": [
      " 28%|██▊       | 28/100 [01:16<02:08,  1.79s/it]"
     ]
    },
    {
     "name": "stdout",
     "output_type": "stream",
     "text": [
      "processed: /mnt/storage/quarantine/data/control_subreddit_comments/marriedredpill.csv\n"
     ]
    },
    {
     "name": "stderr",
     "output_type": "stream",
     "text": [
      " 29%|██▉       | 29/100 [01:18<02:18,  1.96s/it]"
     ]
    },
    {
     "name": "stdout",
     "output_type": "stream",
     "text": [
      "processed: /mnt/storage/quarantine/data/control_subreddit_comments/BPDlovedones.csv\n"
     ]
    },
    {
     "name": "stderr",
     "output_type": "stream",
     "text": [
      " 30%|███       | 30/100 [01:20<02:11,  1.87s/it]"
     ]
    },
    {
     "name": "stdout",
     "output_type": "stream",
     "text": [
      "processed: /mnt/storage/quarantine/data/control_subreddit_comments/truerateme.csv\n"
     ]
    },
    {
     "name": "stderr",
     "output_type": "stream",
     "text": [
      " 31%|███       | 31/100 [01:21<01:57,  1.70s/it]"
     ]
    },
    {
     "name": "stdout",
     "output_type": "stream",
     "text": [
      "processed: /mnt/storage/quarantine/data/control_subreddit_comments/PEDs.csv\n"
     ]
    },
    {
     "name": "stderr",
     "output_type": "stream",
     "text": [
      " 32%|███▏      | 32/100 [01:24<02:27,  2.17s/it]"
     ]
    },
    {
     "name": "stdout",
     "output_type": "stream",
     "text": [
      "processed: /mnt/storage/quarantine/data/control_subreddit_comments/dating.csv\n"
     ]
    },
    {
     "name": "stderr",
     "output_type": "stream",
     "text": [
      " 33%|███▎      | 33/100 [01:26<02:24,  2.15s/it]"
     ]
    },
    {
     "name": "stdout",
     "output_type": "stream",
     "text": [
      "processed: /mnt/storage/quarantine/data/control_subreddit_comments/WhereAreAllTheGoodMen.csv\n"
     ]
    },
    {
     "name": "stderr",
     "output_type": "stream",
     "text": [
      " 34%|███▍      | 34/100 [01:27<01:58,  1.79s/it]"
     ]
    },
    {
     "name": "stdout",
     "output_type": "stream",
     "text": [
      "processed: /mnt/storage/quarantine/data/control_subreddit_comments/The30DayChallenge.csv\n"
     ]
    },
    {
     "name": "stderr",
     "output_type": "stream",
     "text": [
      " 35%|███▌      | 35/100 [01:31<02:29,  2.30s/it]"
     ]
    },
    {
     "name": "stdout",
     "output_type": "stream",
     "text": [
      "processed: /mnt/storage/quarantine/data/control_subreddit_comments/ForeverAlone.csv\n"
     ]
    },
    {
     "name": "stderr",
     "output_type": "stream",
     "text": [
      " 36%|███▌      | 36/100 [01:32<02:12,  2.08s/it]"
     ]
    },
    {
     "name": "stdout",
     "output_type": "stream",
     "text": [
      "processed: /mnt/storage/quarantine/data/control_subreddit_comments/amateur_boxing.csv\n"
     ]
    },
    {
     "name": "stderr",
     "output_type": "stream",
     "text": [
      " 37%|███▋      | 37/100 [01:34<01:57,  1.87s/it]"
     ]
    },
    {
     "name": "stdout",
     "output_type": "stream",
     "text": [
      "processed: /mnt/storage/quarantine/data/control_subreddit_comments/leangains.csv\n"
     ]
    },
    {
     "name": "stderr",
     "output_type": "stream",
     "text": [
      " 38%|███▊      | 38/100 [01:35<01:51,  1.80s/it]"
     ]
    },
    {
     "name": "stdout",
     "output_type": "stream",
     "text": [
      "processed: /mnt/storage/quarantine/data/control_subreddit_comments/Brogress.csv\n"
     ]
    },
    {
     "name": "stderr",
     "output_type": "stream",
     "text": [
      " 39%|███▉      | 39/100 [01:36<01:37,  1.61s/it]"
     ]
    },
    {
     "name": "stdout",
     "output_type": "stream",
     "text": [
      "processed: /mnt/storage/quarantine/data/control_subreddit_comments/Stronglifts5x5.csv\n"
     ]
    },
    {
     "name": "stderr",
     "output_type": "stream",
     "text": [
      " 40%|████      | 40/100 [01:42<02:51,  2.86s/it]"
     ]
    },
    {
     "name": "stdout",
     "output_type": "stream",
     "text": [
      "processed: /mnt/storage/quarantine/data/control_subreddit_comments/CapitalismVSocialism.csv\n"
     ]
    },
    {
     "name": "stderr",
     "output_type": "stream",
     "text": [
      " 41%|████      | 41/100 [01:44<02:32,  2.58s/it]"
     ]
    },
    {
     "name": "stdout",
     "output_type": "stream",
     "text": [
      "processed: /mnt/storage/quarantine/data/control_subreddit_comments/GoldandBlack.csv\n"
     ]
    },
    {
     "name": "stderr",
     "output_type": "stream",
     "text": [
      " 42%|████▏     | 42/100 [01:46<02:12,  2.28s/it]"
     ]
    },
    {
     "name": "stdout",
     "output_type": "stream",
     "text": [
      "processed: /mnt/storage/quarantine/data/control_subreddit_comments/subredditcancer.csv\n"
     ]
    },
    {
     "name": "stderr",
     "output_type": "stream",
     "text": [
      " 43%|████▎     | 43/100 [01:48<02:08,  2.26s/it]"
     ]
    },
    {
     "name": "stdout",
     "output_type": "stream",
     "text": [
      "processed: /mnt/storage/quarantine/data/control_subreddit_comments/gainit.csv\n"
     ]
    },
    {
     "name": "stderr",
     "output_type": "stream",
     "text": [
      " 44%|████▍     | 44/100 [01:49<01:48,  1.93s/it]"
     ]
    },
    {
     "name": "stdout",
     "output_type": "stream",
     "text": [
      "processed: /mnt/storage/quarantine/data/control_subreddit_comments/AmISexy.csv\n"
     ]
    },
    {
     "name": "stderr",
     "output_type": "stream",
     "text": [
      " 45%|████▌     | 45/100 [01:51<01:41,  1.84s/it]"
     ]
    },
    {
     "name": "stdout",
     "output_type": "stream",
     "text": [
      "processed: /mnt/storage/quarantine/data/control_subreddit_comments/TheBluePill.csv\n"
     ]
    },
    {
     "name": "stderr",
     "output_type": "stream",
     "text": [
      " 46%|████▌     | 46/100 [01:53<01:44,  1.93s/it]"
     ]
    },
    {
     "name": "stdout",
     "output_type": "stream",
     "text": [
      "processed: /mnt/storage/quarantine/data/control_subreddit_comments/IncelsWithoutHate.csv\n"
     ]
    },
    {
     "name": "stderr",
     "output_type": "stream",
     "text": [
      " 47%|████▋     | 47/100 [01:54<01:35,  1.80s/it]"
     ]
    },
    {
     "name": "stdout",
     "output_type": "stream",
     "text": [
      "processed: /mnt/storage/quarantine/data/control_subreddit_comments/leanfire.csv\n"
     ]
    },
    {
     "name": "stderr",
     "output_type": "stream",
     "text": [
      " 48%|████▊     | 48/100 [01:57<01:50,  2.13s/it]"
     ]
    },
    {
     "name": "stdout",
     "output_type": "stream",
     "text": [
      "processed: /mnt/storage/quarantine/data/control_subreddit_comments/socialskills.csv\n"
     ]
    },
    {
     "name": "stderr",
     "output_type": "stream",
     "text": [
      " 49%|████▉     | 49/100 [01:59<01:36,  1.90s/it]"
     ]
    },
    {
     "name": "stdout",
     "output_type": "stream",
     "text": [
      "processed: /mnt/storage/quarantine/data/control_subreddit_comments/SocialJusticeInAction.csv\n"
     ]
    },
    {
     "name": "stderr",
     "output_type": "stream",
     "text": [
      " 50%|█████     | 50/100 [02:01<01:38,  1.98s/it]"
     ]
    },
    {
     "name": "stdout",
     "output_type": "stream",
     "text": [
      "processed: /mnt/storage/quarantine/data/control_subreddit_comments/zerocarb.csv\n"
     ]
    },
    {
     "name": "stderr",
     "output_type": "stream",
     "text": [
      " 51%|█████     | 51/100 [02:07<02:33,  3.14s/it]"
     ]
    },
    {
     "name": "stdout",
     "output_type": "stream",
     "text": [
      "processed: /mnt/storage/quarantine/data/control_subreddit_comments/bodybuilding.csv\n"
     ]
    },
    {
     "name": "stderr",
     "output_type": "stream",
     "text": [
      " 52%|█████▏    | 52/100 [02:08<02:04,  2.60s/it]"
     ]
    },
    {
     "name": "stdout",
     "output_type": "stream",
     "text": [
      "processed: /mnt/storage/quarantine/data/control_subreddit_comments/EqualAttraction.csv\n"
     ]
    },
    {
     "name": "stderr",
     "output_type": "stream",
     "text": [
      " 53%|█████▎    | 53/100 [02:09<01:43,  2.20s/it]"
     ]
    },
    {
     "name": "stdout",
     "output_type": "stream",
     "text": [
      "processed: /mnt/storage/quarantine/data/control_subreddit_comments/SocialEngineering.csv\n"
     ]
    },
    {
     "name": "stderr",
     "output_type": "stream",
     "text": [
      " 54%|█████▍    | 54/100 [02:23<04:27,  5.81s/it]"
     ]
    },
    {
     "name": "stdout",
     "output_type": "stream",
     "text": [
      "processed: /mnt/storage/quarantine/data/control_subreddit_comments/MGTOW.csv\n"
     ]
    },
    {
     "name": "stderr",
     "output_type": "stream",
     "text": [
      " 55%|█████▌    | 55/100 [02:25<03:24,  4.54s/it]"
     ]
    },
    {
     "name": "stdout",
     "output_type": "stream",
     "text": [
      "processed: /mnt/storage/quarantine/data/control_subreddit_comments/RPChristians.csv\n"
     ]
    },
    {
     "name": "stderr",
     "output_type": "stream",
     "text": [
      " 56%|█████▌    | 56/100 [02:27<02:50,  3.86s/it]"
     ]
    },
    {
     "name": "stdout",
     "output_type": "stream",
     "text": [
      "processed: /mnt/storage/quarantine/data/control_subreddit_comments/sales.csv\n"
     ]
    },
    {
     "name": "stderr",
     "output_type": "stream",
     "text": [
      " 57%|█████▋    | 57/100 [02:33<03:09,  4.40s/it]"
     ]
    },
    {
     "name": "stdout",
     "output_type": "stream",
     "text": [
      "processed: /mnt/storage/quarantine/data/control_subreddit_comments/asktrp.csv\n"
     ]
    },
    {
     "name": "stderr",
     "output_type": "stream",
     "text": [
      " 58%|█████▊    | 58/100 [02:43<04:11,  5.98s/it]"
     ]
    },
    {
     "name": "stdout",
     "output_type": "stream",
     "text": [
      "processed: /mnt/storage/quarantine/data/control_subreddit_comments/JordanPeterson.csv\n"
     ]
    },
    {
     "name": "stderr",
     "output_type": "stream",
     "text": [
      " 59%|█████▉    | 59/100 [02:45<03:23,  4.96s/it]"
     ]
    },
    {
     "name": "stdout",
     "output_type": "stream",
     "text": [
      "processed: /mnt/storage/quarantine/data/control_subreddit_comments/martialarts.csv\n"
     ]
    },
    {
     "name": "stderr",
     "output_type": "stream",
     "text": [
      " 60%|██████    | 60/100 [02:47<02:38,  3.97s/it]"
     ]
    },
    {
     "name": "stdout",
     "output_type": "stream",
     "text": [
      "processed: /mnt/storage/quarantine/data/control_subreddit_comments/afinil.csv\n"
     ]
    },
    {
     "name": "stderr",
     "output_type": "stream",
     "text": [
      " 61%|██████    | 61/100 [02:49<02:14,  3.45s/it]"
     ]
    },
    {
     "name": "stdout",
     "output_type": "stream",
     "text": [
      "processed: /mnt/storage/quarantine/data/control_subreddit_comments/nattyorjuice.csv\n"
     ]
    },
    {
     "name": "stderr",
     "output_type": "stream",
     "text": [
      " 62%|██████▏   | 62/100 [02:53<02:14,  3.54s/it]"
     ]
    },
    {
     "name": "stdout",
     "output_type": "stream",
     "text": [
      "processed: /mnt/storage/quarantine/data/control_subreddit_comments/Anarcho_Capitalism.csv\n"
     ]
    },
    {
     "name": "stderr",
     "output_type": "stream",
     "text": [
      " 63%|██████▎   | 63/100 [02:55<01:52,  3.05s/it]"
     ]
    },
    {
     "name": "stdout",
     "output_type": "stream",
     "text": [
      "processed: /mnt/storage/quarantine/data/control_subreddit_comments/sociopath.csv\n"
     ]
    },
    {
     "name": "stderr",
     "output_type": "stream",
     "text": [
      " 64%|██████▍   | 64/100 [02:57<01:38,  2.74s/it]"
     ]
    },
    {
     "name": "stdout",
     "output_type": "stream",
     "text": [
      "processed: /mnt/storage/quarantine/data/control_subreddit_comments/walkaway.csv\n"
     ]
    },
    {
     "name": "stderr",
     "output_type": "stream",
     "text": [
      " 65%|██████▌   | 65/100 [02:59<01:30,  2.58s/it]"
     ]
    },
    {
     "name": "stdout",
     "output_type": "stream",
     "text": [
      "processed: /mnt/storage/quarantine/data/control_subreddit_comments/RedPillWomen.csv\n"
     ]
    },
    {
     "name": "stderr",
     "output_type": "stream",
     "text": [
      " 66%|██████▌   | 66/100 [03:02<01:30,  2.65s/it]"
     ]
    },
    {
     "name": "stdout",
     "output_type": "stream",
     "text": [
      "processed: /mnt/storage/quarantine/data/control_subreddit_comments/bigdickproblems.csv\n"
     ]
    },
    {
     "name": "stderr",
     "output_type": "stream",
     "text": [
      " 67%|██████▋   | 67/100 [03:04<01:20,  2.45s/it]"
     ]
    },
    {
     "name": "stdout",
     "output_type": "stream",
     "text": [
      "processed: /mnt/storage/quarantine/data/control_subreddit_comments/phenibut.csv\n"
     ]
    },
    {
     "name": "stderr",
     "output_type": "stream",
     "text": [
      " 68%|██████▊   | 68/100 [03:06<01:11,  2.24s/it]"
     ]
    },
    {
     "name": "stdout",
     "output_type": "stream",
     "text": [
      "processed: /mnt/storage/quarantine/data/control_subreddit_comments/bald.csv\n"
     ]
    },
    {
     "name": "stderr",
     "output_type": "stream",
     "text": [
      " 69%|██████▉   | 69/100 [03:08<01:09,  2.23s/it]"
     ]
    },
    {
     "name": "stdout",
     "output_type": "stream",
     "text": [
      "processed: /mnt/storage/quarantine/data/control_subreddit_comments/Supplements.csv\n"
     ]
    },
    {
     "name": "stderr",
     "output_type": "stream",
     "text": [
      " 70%|███████   | 70/100 [03:10<01:03,  2.13s/it]"
     ]
    },
    {
     "name": "stdout",
     "output_type": "stream",
     "text": [
      "processed: /mnt/storage/quarantine/data/control_subreddit_comments/naturalbodybuilding.csv\n"
     ]
    },
    {
     "name": "stderr",
     "output_type": "stream",
     "text": [
      " 71%|███████   | 71/100 [03:14<01:16,  2.64s/it]"
     ]
    },
    {
     "name": "stdout",
     "output_type": "stream",
     "text": [
      "processed: /mnt/storage/quarantine/data/control_subreddit_comments/Divorce.csv\n"
     ]
    },
    {
     "name": "stderr",
     "output_type": "stream",
     "text": [
      " 72%|███████▏  | 72/100 [03:18<01:31,  3.27s/it]"
     ]
    },
    {
     "name": "stdout",
     "output_type": "stream",
     "text": [
      "processed: /mnt/storage/quarantine/data/control_subreddit_comments/collapse.csv\n"
     ]
    },
    {
     "name": "stderr",
     "output_type": "stream",
     "text": [
      " 73%|███████▎  | 73/100 [03:21<01:24,  3.12s/it]"
     ]
    },
    {
     "name": "stdout",
     "output_type": "stream",
     "text": [
      "processed: /mnt/storage/quarantine/data/control_subreddit_comments/short.csv\n"
     ]
    },
    {
     "name": "stderr",
     "output_type": "stream",
     "text": [
      " 74%|███████▍  | 74/100 [03:23<01:10,  2.71s/it]"
     ]
    },
    {
     "name": "stdout",
     "output_type": "stream",
     "text": [
      "processed: /mnt/storage/quarantine/data/control_subreddit_comments/BlackPillScience.csv\n"
     ]
    },
    {
     "name": "stderr",
     "output_type": "stream",
     "text": [
      " 75%|███████▌  | 75/100 [03:26<01:12,  2.88s/it]"
     ]
    },
    {
     "name": "stdout",
     "output_type": "stream",
     "text": [
      "processed: /mnt/storage/quarantine/data/control_subreddit_comments/aznidentity.csv\n"
     ]
    },
    {
     "name": "stderr",
     "output_type": "stream",
     "text": [
      " 76%|███████▌  | 76/100 [03:29<01:07,  2.80s/it]"
     ]
    },
    {
     "name": "stdout",
     "output_type": "stream",
     "text": [
      "processed: /mnt/storage/quarantine/data/control_subreddit_comments/Testosterone.csv\n"
     ]
    },
    {
     "name": "stderr",
     "output_type": "stream",
     "text": [
      " 77%|███████▋  | 77/100 [03:31<00:58,  2.54s/it]"
     ]
    },
    {
     "name": "stdout",
     "output_type": "stream",
     "text": [
      "processed: /mnt/storage/quarantine/data/control_subreddit_comments/MGTOW2.csv\n"
     ]
    },
    {
     "name": "stderr",
     "output_type": "stream",
     "text": [
      " 78%|███████▊  | 78/100 [03:34<00:59,  2.70s/it]"
     ]
    },
    {
     "name": "stdout",
     "output_type": "stream",
     "text": [
      "processed: /mnt/storage/quarantine/data/control_subreddit_comments/fragrance.csv\n"
     ]
    },
    {
     "name": "stderr",
     "output_type": "stream",
     "text": [
      " 79%|███████▉  | 79/100 [03:37<00:59,  2.83s/it]"
     ]
    },
    {
     "name": "stdout",
     "output_type": "stream",
     "text": [
      "processed: /mnt/storage/quarantine/data/control_subreddit_comments/AskFeminists.csv\n"
     ]
    },
    {
     "name": "stderr",
     "output_type": "stream",
     "text": [
      " 80%|████████  | 80/100 [03:39<00:51,  2.57s/it]"
     ]
    },
    {
     "name": "stdout",
     "output_type": "stream",
     "text": [
      "processed: /mnt/storage/quarantine/data/control_subreddit_comments/nosurf.csv\n"
     ]
    },
    {
     "name": "stderr",
     "output_type": "stream",
     "text": [
      " 81%|████████  | 81/100 [03:41<00:47,  2.48s/it]"
     ]
    },
    {
     "name": "stdout",
     "output_type": "stream",
     "text": [
      "processed: /mnt/storage/quarantine/data/control_subreddit_comments/C_S_T.csv\n"
     ]
    },
    {
     "name": "stderr",
     "output_type": "stream",
     "text": [
      " 82%|████████▏ | 82/100 [03:45<00:50,  2.80s/it]"
     ]
    },
    {
     "name": "stdout",
     "output_type": "stream",
     "text": [
      "processed: /mnt/storage/quarantine/data/control_subreddit_comments/seduction.csv\n"
     ]
    },
    {
     "name": "stderr",
     "output_type": "stream",
     "text": [
      " 83%|████████▎ | 83/100 [03:53<01:14,  4.38s/it]"
     ]
    },
    {
     "name": "stdout",
     "output_type": "stream",
     "text": [
      "processed: /mnt/storage/quarantine/data/control_subreddit_comments/PurplePillDebate.csv\n"
     ]
    },
    {
     "name": "stderr",
     "output_type": "stream",
     "text": [
      " 84%|████████▍ | 84/100 [03:55<00:59,  3.75s/it]"
     ]
    },
    {
     "name": "stdout",
     "output_type": "stream",
     "text": [
      "processed: /mnt/storage/quarantine/data/control_subreddit_comments/MuayThai.csv\n"
     ]
    },
    {
     "name": "stderr",
     "output_type": "stream",
     "text": [
      " 85%|████████▌ | 85/100 [03:57<00:49,  3.27s/it]"
     ]
    },
    {
     "name": "stdout",
     "output_type": "stream",
     "text": [
      "processed: /mnt/storage/quarantine/data/control_subreddit_comments/StopGaming.csv\n"
     ]
    },
    {
     "name": "stderr",
     "output_type": "stream",
     "text": [
      " 86%|████████▌ | 86/100 [04:00<00:45,  3.26s/it]"
     ]
    },
    {
     "name": "stdout",
     "output_type": "stream",
     "text": [
      "processed: /mnt/storage/quarantine/data/control_subreddit_comments/lostgeneration.csv\n"
     ]
    },
    {
     "name": "stderr",
     "output_type": "stream",
     "text": [
      " 87%|████████▋ | 87/100 [04:03<00:40,  3.10s/it]"
     ]
    },
    {
     "name": "stdout",
     "output_type": "stream",
     "text": [
      "processed: /mnt/storage/quarantine/data/control_subreddit_comments/lawofattraction.csv\n"
     ]
    },
    {
     "name": "stderr",
     "output_type": "stream",
     "text": [
      " 88%|████████▊ | 88/100 [04:06<00:36,  3.02s/it]"
     ]
    },
    {
     "name": "stdout",
     "output_type": "stream",
     "text": [
      "processed: /mnt/storage/quarantine/data/control_subreddit_comments/entp.csv\n"
     ]
    },
    {
     "name": "stderr",
     "output_type": "stream",
     "text": [
      " 89%|████████▉ | 89/100 [04:08<00:30,  2.78s/it]"
     ]
    },
    {
     "name": "stdout",
     "output_type": "stream",
     "text": [
      "processed: /mnt/storage/quarantine/data/control_subreddit_comments/AsianMasculinity.csv\n"
     ]
    },
    {
     "name": "stderr",
     "output_type": "stream",
     "text": [
      " 90%|█████████ | 90/100 [04:11<00:29,  2.96s/it]"
     ]
    },
    {
     "name": "stdout",
     "output_type": "stream",
     "text": [
      "processed: /mnt/storage/quarantine/data/control_subreddit_comments/Nootropics.csv\n"
     ]
    },
    {
     "name": "stderr",
     "output_type": "stream",
     "text": [
      " 91%|█████████ | 91/100 [04:13<00:23,  2.66s/it]"
     ]
    },
    {
     "name": "stdout",
     "output_type": "stream",
     "text": [
      "processed: /mnt/storage/quarantine/data/control_subreddit_comments/coldshowers.csv\n"
     ]
    },
    {
     "name": "stderr",
     "output_type": "stream",
     "text": [
      " 92%|█████████▏| 92/100 [04:16<00:21,  2.73s/it]"
     ]
    },
    {
     "name": "stdout",
     "output_type": "stream",
     "text": [
      "processed: /mnt/storage/quarantine/data/control_subreddit_comments/awakened.csv\n"
     ]
    },
    {
     "name": "stderr",
     "output_type": "stream",
     "text": [
      " 93%|█████████▎| 93/100 [04:19<00:18,  2.58s/it]"
     ]
    },
    {
     "name": "stdout",
     "output_type": "stream",
     "text": [
      "processed: /mnt/storage/quarantine/data/control_subreddit_comments/Incelselfies.csv\n"
     ]
    },
    {
     "name": "stderr",
     "output_type": "stream",
     "text": [
      " 94%|█████████▍| 94/100 [04:21<00:14,  2.45s/it]"
     ]
    },
    {
     "name": "stdout",
     "output_type": "stream",
     "text": [
      "processed: /mnt/storage/quarantine/data/control_subreddit_comments/AJelqForYou.csv\n"
     ]
    },
    {
     "name": "stderr",
     "output_type": "stream",
     "text": [
      " 95%|█████████▌| 95/100 [04:24<00:12,  2.56s/it]"
     ]
    },
    {
     "name": "stdout",
     "output_type": "stream",
     "text": [
      "processed: /mnt/storage/quarantine/data/control_subreddit_comments/hapas.csv\n"
     ]
    },
    {
     "name": "stderr",
     "output_type": "stream",
     "text": [
      " 96%|█████████▌| 96/100 [04:26<00:09,  2.49s/it]"
     ]
    },
    {
     "name": "stdout",
     "output_type": "stream",
     "text": [
      "processed: /mnt/storage/quarantine/data/control_subreddit_comments/whiteknighting.csv\n"
     ]
    },
    {
     "name": "stderr",
     "output_type": "stream",
     "text": [
      " 97%|█████████▋| 97/100 [04:34<00:12,  4.06s/it]"
     ]
    },
    {
     "name": "stdout",
     "output_type": "stream",
     "text": [
      "processed: /mnt/storage/quarantine/data/control_subreddit_comments/samharris.csv\n"
     ]
    },
    {
     "name": "stderr",
     "output_type": "stream",
     "text": [
      " 98%|█████████▊| 98/100 [04:37<00:07,  3.85s/it]"
     ]
    },
    {
     "name": "stdout",
     "output_type": "stream",
     "text": [
      "processed: /mnt/storage/quarantine/data/control_subreddit_comments/survivinginfidelity.csv\n"
     ]
    },
    {
     "name": "stderr",
     "output_type": "stream",
     "text": [
      " 99%|█████████▉| 99/100 [04:41<00:03,  3.78s/it]"
     ]
    },
    {
     "name": "stdout",
     "output_type": "stream",
     "text": [
      "processed: /mnt/storage/quarantine/data/control_subreddit_comments/pussypassdenied.csv\n"
     ]
    },
    {
     "name": "stderr",
     "output_type": "stream",
     "text": [
      "100%|██████████| 100/100 [04:43<00:00,  3.29s/it]"
     ]
    },
    {
     "name": "stdout",
     "output_type": "stream",
     "text": [
      "processed: /mnt/storage/quarantine/data/control_subreddit_comments/BattleOfTheSexes.csv\n"
     ]
    },
    {
     "name": "stderr",
     "output_type": "stream",
     "text": [
      "\n"
     ]
    }
   ],
   "source": [
    "control_size = 0\n",
    "control_df = pd.DataFrame()\n",
    "\n",
    "filelist = glob.glob(datapath + \"control_subreddit_comments/*.csv\")\n",
    "\n",
    "with tqdm(total=len(filelist)) as pbar:\n",
    "    for filename in filelist:\n",
    "    #     print(filename)\n",
    "        temp_df = pd.read_csv(filename)[['body']]\n",
    "        control_size += control_df.shape[0]\n",
    "        control_df = pd.concat([control_df, temp_df])\n",
    "\n",
    "        pbar.write('processed: %s' %filename)\n",
    "        pbar.update(1)\n",
    "        \n",
    "control_data = control_df.sample(n = treatment_size, random_state=42)"
   ]
  },
  {
   "cell_type": "code",
   "execution_count": 34,
   "metadata": {},
   "outputs": [],
   "source": [
    "control_data.to_csv('control_comments.txt', index = False, header=False)\n",
    "treatment_data.to_csv('treatment_comments.txt', index = False, header = False)"
   ]
  },
  {
   "cell_type": "markdown",
   "metadata": {},
   "source": [
    "# SAGE analysis"
   ]
  },
  {
   "cell_type": "code",
   "execution_count": 36,
   "metadata": {},
   "outputs": [],
   "source": [
    "import sage\n",
    "import numpy as np\n",
    "from sklearn.feature_extraction.text import CountVectorizer\n",
    "from glob import glob\n",
    "import csv\n",
    "import os"
   ]
  },
  {
   "cell_type": "code",
   "execution_count": 37,
   "metadata": {},
   "outputs": [],
   "source": [
    "vect = CountVectorizer(max_features=5000)"
   ]
  },
  {
   "cell_type": "code",
   "execution_count": 44,
   "metadata": {},
   "outputs": [],
   "source": [
    "# filenames = glob(datapath + '*_comments.txt')\n",
    "filenames = ['/mnt/storage/quarantine/data/control_comments.txt', '/mnt/storage/quarantine/data/treatment_comments.txt']"
   ]
  },
  {
   "cell_type": "code",
   "execution_count": 45,
   "metadata": {},
   "outputs": [
    {
     "name": "stdout",
     "output_type": "stream",
     "text": [
      "['/mnt/storage/quarantine/data/control_comments.txt', '/mnt/storage/quarantine/data/treatment_comments.txt']\n"
     ]
    }
   ],
   "source": [
    "print(filenames)"
   ]
  },
  {
   "cell_type": "code",
   "execution_count": 46,
   "metadata": {},
   "outputs": [],
   "source": [
    "def getData(filenames):\n",
    "    for filename in filenames:\n",
    "        with open(filename) as fin:\n",
    "            for line in fin:\n",
    "                yield line"
   ]
  },
  {
   "cell_type": "markdown",
   "metadata": {},
   "source": [
    "Here we read in the data. This takes a minute or two."
   ]
  },
  {
   "cell_type": "code",
   "execution_count": 47,
   "metadata": {},
   "outputs": [],
   "source": [
    "X = vect.fit_transform(getData(filenames))"
   ]
  },
  {
   "cell_type": "code",
   "execution_count": 48,
   "metadata": {},
   "outputs": [
    {
     "data": {
      "text/plain": [
       "(1220718, 5000)"
      ]
     },
     "execution_count": 48,
     "metadata": {},
     "output_type": "execute_result"
    }
   ],
   "source": [
    "X.shape"
   ]
  },
  {
   "cell_type": "markdown",
   "metadata": {},
   "source": [
    "Convenience for figuring out the number of lines in each file"
   ]
  },
  {
   "cell_type": "code",
   "execution_count": 49,
   "metadata": {},
   "outputs": [],
   "source": [
    "def getNumLines(filename):\n",
    "    with open(filename) as fin:\n",
    "        return len([line for line in fin])"
   ]
  },
  {
   "cell_type": "code",
   "execution_count": 50,
   "metadata": {},
   "outputs": [],
   "source": [
    "N = [getNumLines(filename) for filename in filenames]"
   ]
  },
  {
   "cell_type": "code",
   "execution_count": 51,
   "metadata": {},
   "outputs": [],
   "source": [
    "idxs = np.array([0] + N).cumsum()\n",
    "x = np.array([np.array(X[start:stop,:].sum(axis=0))[0] for start,stop in zip(idxs[:-1],idxs[1:])])"
   ]
  },
  {
   "cell_type": "code",
   "execution_count": 52,
   "metadata": {},
   "outputs": [
    {
     "name": "stdout",
     "output_type": "stream",
     "text": [
      "[      0  565957 1220718]\n"
     ]
    }
   ],
   "source": [
    "print(idxs)"
   ]
  },
  {
   "cell_type": "markdown",
   "metadata": {},
   "source": [
    "Base rate language model"
   ]
  },
  {
   "cell_type": "code",
   "execution_count": 53,
   "metadata": {},
   "outputs": [],
   "source": [
    "smoother = 10.\n",
    "mu = np.log(x[0]+smoother) - np.log((x[0]+smoother).sum())"
   ]
  },
  {
   "cell_type": "markdown",
   "metadata": {},
   "source": [
    "Think think think"
   ]
  },
  {
   "cell_type": "code",
   "execution_count": 54,
   "metadata": {},
   "outputs": [],
   "source": [
    "eta = sage.estimate(x[1],mu,max_its=25)"
   ]
  },
  {
   "cell_type": "code",
   "execution_count": 57,
   "metadata": {},
   "outputs": [],
   "source": [
    "vocab = {i:j for j,i in vect.vocabulary_.items()}"
   ]
  },
  {
   "cell_type": "code",
   "execution_count": 58,
   "metadata": {},
   "outputs": [],
   "source": [
    "with open('sage-output.csv','w') as fout:\n",
    "    writer = csv.DictWriter(fout,fieldnames=['word','sage',\n",
    "                                             'base_count',\n",
    "                                             'base_rate',\n",
    "                                             'treatment_count',\n",
    "                                             'treatment_rate'])\n",
    "    writer.writeheader()\n",
    "    for word in sage.topK(eta,vocab,100):\n",
    "        i = vect.vocabulary_[word]\n",
    "        writer.writerow({'word':word,\n",
    "                         'sage':eta[i],\n",
    "                         'base_count':x[0,i],\n",
    "                         'base_rate':x[0,i]/float(x[0].sum()),\n",
    "                         'treatment_count':x[1,i],\n",
    "                         'treatment_rate':x[1,i]/float(x[1].sum())\n",
    "                        })    "
   ]
  },
  {
   "cell_type": "code",
   "execution_count": 65,
   "metadata": {},
   "outputs": [
    {
     "name": "stdout",
     "output_type": "stream",
     "text": [
      "['theredpill', 'more_silence_from_reddit_administration_a_failure', '9sdg04', 'quarantined', '80kgg6', 'shit_to_avoid_saying_in_modmail', 'trp', 'rollo', 'glo', 'backup']\n"
     ]
    }
   ],
   "source": [
    "print(sage.topK(eta,vocab))"
   ]
  },
  {
   "cell_type": "code",
   "execution_count": 68,
   "metadata": {},
   "outputs": [
    {
     "name": "stdout",
     "output_type": "stream",
     "text": [
      "['megalodon', 'snapshillbot', 'get_simple', 'mnemosyne', 'reddiquette', 'survivinginfidelity', '_megalodon', 'kotakuinaction', 'resubmit', 'removeddit']\n"
     ]
    }
   ],
   "source": [
    "print(sage.topK(-eta,vocab))"
   ]
  },
  {
   "cell_type": "code",
   "execution_count": 71,
   "metadata": {},
   "outputs": [
    {
     "data": {
      "text/plain": [
       "(array([3.000e+00, 2.000e+00, 2.000e+00, 2.000e+00, 3.000e+00, 2.000e+00,\n",
       "        3.000e+00, 8.000e+00, 7.000e+00, 3.900e+01, 1.290e+02, 4.750e+02,\n",
       "        2.319e+03, 1.601e+03, 2.760e+02, 7.500e+01, 3.400e+01, 1.200e+01,\n",
       "        4.000e+00, 4.000e+00]),\n",
       " array([-7.03318883, -6.48625059, -5.93931236, -5.39237412, -4.84543589,\n",
       "        -4.29849765, -3.75155942, -3.20462118, -2.65768295, -2.11074471,\n",
       "        -1.56380648, -1.01686824, -0.46993001,  0.07700823,  0.62394646,\n",
       "         1.1708847 ,  1.71782293,  2.26476117,  2.8116994 ,  3.35863764,\n",
       "         3.90557587]),\n",
       " <a list of 20 Patch objects>)"
      ]
     },
     "execution_count": 71,
     "metadata": {},
     "output_type": "execute_result"
    },
    {
     "data": {
      "image/png": "[encoded data removed]",
      "text/plain": [
       "<Figure size 432x288 with 1 Axes>"
      ]
     },
     "metadata": {
      "needs_background": "light"
     },
     "output_type": "display_data"
    }
   ],
   "source": [
    "plt.hist(eta,20)"
   ]
  },
  {
   "cell_type": "code",
   "execution_count": 72,
   "metadata": {},
   "outputs": [
    {
     "data": {
      "image/png": "[encoded data removed]",
      "text/plain": [
       "<Figure size 432x288 with 1 Axes>"
      ]
     },
     "metadata": {
      "needs_background": "light"
     },
     "output_type": "display_data"
    }
   ],
   "source": [
    "plt.plot(sorted(eta));"
   ]
  },
  {
   "cell_type": "code",
   "execution_count": 66,
   "metadata": {},
   "outputs": [
    {
     "data": {
      "text/html": [
       "<div>\n",
       "<style scoped>\n",
       "    .dataframe tbody tr th:only-of-type {\n",
       "        vertical-align: middle;\n",
       "    }\n",
       "\n",
       "    .dataframe tbody tr th {\n",
       "        vertical-align: top;\n",
       "    }\n",
       "\n",
       "    .dataframe thead th {\n",
       "        text-align: right;\n",
       "    }\n",
       "</style>\n",
       "<table border=\"1\" class=\"dataframe\">\n",
       "  <thead>\n",
       "    <tr style=\"text-align: right;\">\n",
       "      <th></th>\n",
       "      <th>word</th>\n",
       "      <th>sage</th>\n",
       "      <th>base_count</th>\n",
       "      <th>base_rate</th>\n",
       "      <th>treatment_count</th>\n",
       "      <th>treatment_rate</th>\n",
       "    </tr>\n",
       "  </thead>\n",
       "  <tbody>\n",
       "    <tr>\n",
       "      <th>0</th>\n",
       "      <td>theredpill</td>\n",
       "      <td>3.905576</td>\n",
       "      <td>121</td>\n",
       "      <td>0.000015</td>\n",
       "      <td>7496</td>\n",
       "      <td>0.000706</td>\n",
       "    </tr>\n",
       "    <tr>\n",
       "      <th>6</th>\n",
       "      <td>trp</td>\n",
       "      <td>3.010930</td>\n",
       "      <td>617</td>\n",
       "      <td>0.000075</td>\n",
       "      <td>14665</td>\n",
       "      <td>0.001382</td>\n",
       "    </tr>\n",
       "    <tr>\n",
       "      <th>15</th>\n",
       "      <td>smv</td>\n",
       "      <td>2.345077</td>\n",
       "      <td>247</td>\n",
       "      <td>0.000030</td>\n",
       "      <td>3089</td>\n",
       "      <td>0.000291</td>\n",
       "    </tr>\n",
       "    <tr>\n",
       "      <th>16</th>\n",
       "      <td>redpill</td>\n",
       "      <td>2.316582</td>\n",
       "      <td>132</td>\n",
       "      <td>0.000016</td>\n",
       "      <td>1659</td>\n",
       "      <td>0.000156</td>\n",
       "    </tr>\n",
       "    <tr>\n",
       "      <th>17</th>\n",
       "      <td>ltr</td>\n",
       "      <td>2.313719</td>\n",
       "      <td>314</td>\n",
       "      <td>0.000038</td>\n",
       "      <td>3774</td>\n",
       "      <td>0.000356</td>\n",
       "    </tr>\n",
       "    <tr>\n",
       "      <th>18</th>\n",
       "      <td>oneitis</td>\n",
       "      <td>2.312531</td>\n",
       "      <td>111</td>\n",
       "      <td>0.000013</td>\n",
       "      <td>1408</td>\n",
       "      <td>0.000133</td>\n",
       "    </tr>\n",
       "    <tr>\n",
       "      <th>20</th>\n",
       "      <td>forums</td>\n",
       "      <td>2.248905</td>\n",
       "      <td>221</td>\n",
       "      <td>0.000027</td>\n",
       "      <td>2522</td>\n",
       "      <td>0.000238</td>\n",
       "    </tr>\n",
       "    <tr>\n",
       "      <th>21</th>\n",
       "      <td>alpha</td>\n",
       "      <td>2.237094</td>\n",
       "      <td>647</td>\n",
       "      <td>0.000078</td>\n",
       "      <td>7088</td>\n",
       "      <td>0.000668</td>\n",
       "    </tr>\n",
       "    <tr>\n",
       "      <th>22</th>\n",
       "      <td>asktrp</td>\n",
       "      <td>2.207064</td>\n",
       "      <td>115</td>\n",
       "      <td>0.000014</td>\n",
       "      <td>1309</td>\n",
       "      <td>0.000123</td>\n",
       "    </tr>\n",
       "    <tr>\n",
       "      <th>26</th>\n",
       "      <td>beta</td>\n",
       "      <td>2.117343</td>\n",
       "      <td>759</td>\n",
       "      <td>0.000092</td>\n",
       "      <td>7360</td>\n",
       "      <td>0.000694</td>\n",
       "    </tr>\n",
       "    <tr>\n",
       "      <th>27</th>\n",
       "      <td>frame</td>\n",
       "      <td>2.101849</td>\n",
       "      <td>627</td>\n",
       "      <td>0.000076</td>\n",
       "      <td>6003</td>\n",
       "      <td>0.000566</td>\n",
       "    </tr>\n",
       "    <tr>\n",
       "      <th>28</th>\n",
       "      <td>pill</td>\n",
       "      <td>2.076247</td>\n",
       "      <td>1031</td>\n",
       "      <td>0.000125</td>\n",
       "      <td>9562</td>\n",
       "      <td>0.000901</td>\n",
       "    </tr>\n",
       "    <tr>\n",
       "      <th>31</th>\n",
       "      <td>pilled</td>\n",
       "      <td>1.995980</td>\n",
       "      <td>159</td>\n",
       "      <td>0.000019</td>\n",
       "      <td>1433</td>\n",
       "      <td>0.000135</td>\n",
       "    </tr>\n",
       "    <tr>\n",
       "      <th>34</th>\n",
       "      <td>abundance</td>\n",
       "      <td>1.944876</td>\n",
       "      <td>184</td>\n",
       "      <td>0.000022</td>\n",
       "      <td>1563</td>\n",
       "      <td>0.000147</td>\n",
       "    </tr>\n",
       "    <tr>\n",
       "      <th>35</th>\n",
       "      <td>hamster</td>\n",
       "      <td>1.940787</td>\n",
       "      <td>108</td>\n",
       "      <td>0.000013</td>\n",
       "      <td>947</td>\n",
       "      <td>0.000089</td>\n",
       "    </tr>\n",
       "    <tr>\n",
       "      <th>36</th>\n",
       "      <td>hypergamy</td>\n",
       "      <td>1.926454</td>\n",
       "      <td>200</td>\n",
       "      <td>0.000024</td>\n",
       "      <td>1661</td>\n",
       "      <td>0.000157</td>\n",
       "    </tr>\n",
       "    <tr>\n",
       "      <th>38</th>\n",
       "      <td>awalt</td>\n",
       "      <td>1.925716</td>\n",
       "      <td>218</td>\n",
       "      <td>0.000026</td>\n",
       "      <td>1802</td>\n",
       "      <td>0.000170</td>\n",
       "    </tr>\n",
       "    <tr>\n",
       "      <th>39</th>\n",
       "      <td>sidebar</td>\n",
       "      <td>1.903454</td>\n",
       "      <td>344</td>\n",
       "      <td>0.000042</td>\n",
       "      <td>2736</td>\n",
       "      <td>0.000258</td>\n",
       "    </tr>\n",
       "    <tr>\n",
       "      <th>40</th>\n",
       "      <td>red</td>\n",
       "      <td>1.900679</td>\n",
       "      <td>1604</td>\n",
       "      <td>0.000195</td>\n",
       "      <td>12438</td>\n",
       "      <td>0.001172</td>\n",
       "    </tr>\n",
       "    <tr>\n",
       "      <th>41</th>\n",
       "      <td>plates</td>\n",
       "      <td>1.867800</td>\n",
       "      <td>256</td>\n",
       "      <td>0.000031</td>\n",
       "      <td>1984</td>\n",
       "      <td>0.000187</td>\n",
       "    </tr>\n",
       "    <tr>\n",
       "      <th>45</th>\n",
       "      <td>plate</td>\n",
       "      <td>1.808086</td>\n",
       "      <td>295</td>\n",
       "      <td>0.000036</td>\n",
       "      <td>2143</td>\n",
       "      <td>0.000202</td>\n",
       "    </tr>\n",
       "    <tr>\n",
       "      <th>47</th>\n",
       "      <td>rp</td>\n",
       "      <td>1.778031</td>\n",
       "      <td>369</td>\n",
       "      <td>0.000045</td>\n",
       "      <td>2584</td>\n",
       "      <td>0.000244</td>\n",
       "    </tr>\n",
       "    <tr>\n",
       "      <th>48</th>\n",
       "      <td>pua</td>\n",
       "      <td>1.776036</td>\n",
       "      <td>150</td>\n",
       "      <td>0.000018</td>\n",
       "      <td>1089</td>\n",
       "      <td>0.000103</td>\n",
       "    </tr>\n",
       "    <tr>\n",
       "      <th>51</th>\n",
       "      <td>bp</td>\n",
       "      <td>1.754476</td>\n",
       "      <td>202</td>\n",
       "      <td>0.000024</td>\n",
       "      <td>1412</td>\n",
       "      <td>0.000133</td>\n",
       "    </tr>\n",
       "    <tr>\n",
       "      <th>60</th>\n",
       "      <td>chicks</td>\n",
       "      <td>1.672948</td>\n",
       "      <td>308</td>\n",
       "      <td>0.000037</td>\n",
       "      <td>1952</td>\n",
       "      <td>0.000184</td>\n",
       "    </tr>\n",
       "    <tr>\n",
       "      <th>62</th>\n",
       "      <td>opened</td>\n",
       "      <td>1.633921</td>\n",
       "      <td>179</td>\n",
       "      <td>0.000022</td>\n",
       "      <td>1116</td>\n",
       "      <td>0.000105</td>\n",
       "    </tr>\n",
       "    <tr>\n",
       "      <th>63</th>\n",
       "      <td>removed</td>\n",
       "      <td>1.619646</td>\n",
       "      <td>5166</td>\n",
       "      <td>0.000627</td>\n",
       "      <td>30115</td>\n",
       "      <td>0.002838</td>\n",
       "    </tr>\n",
       "    <tr>\n",
       "      <th>70</th>\n",
       "      <td>karma</td>\n",
       "      <td>1.549589</td>\n",
       "      <td>309</td>\n",
       "      <td>0.000037</td>\n",
       "      <td>1731</td>\n",
       "      <td>0.000163</td>\n",
       "    </tr>\n",
       "    <tr>\n",
       "      <th>73</th>\n",
       "      <td>dread</td>\n",
       "      <td>1.513449</td>\n",
       "      <td>121</td>\n",
       "      <td>0.000015</td>\n",
       "      <td>686</td>\n",
       "      <td>0.000065</td>\n",
       "    </tr>\n",
       "    <tr>\n",
       "      <th>74</th>\n",
       "      <td>pussy</td>\n",
       "      <td>1.510515</td>\n",
       "      <td>846</td>\n",
       "      <td>0.000103</td>\n",
       "      <td>4466</td>\n",
       "      <td>0.000421</td>\n",
       "    </tr>\n",
       "    <tr>\n",
       "      <th>75</th>\n",
       "      <td>strategy</td>\n",
       "      <td>1.504168</td>\n",
       "      <td>466</td>\n",
       "      <td>0.000057</td>\n",
       "      <td>2468</td>\n",
       "      <td>0.000233</td>\n",
       "    </tr>\n",
       "    <tr>\n",
       "      <th>76</th>\n",
       "      <td>sluts</td>\n",
       "      <td>1.494313</td>\n",
       "      <td>151</td>\n",
       "      <td>0.000018</td>\n",
       "      <td>827</td>\n",
       "      <td>0.000078</td>\n",
       "    </tr>\n",
       "    <tr>\n",
       "      <th>77</th>\n",
       "      <td>prize</td>\n",
       "      <td>1.481891</td>\n",
       "      <td>125</td>\n",
       "      <td>0.000015</td>\n",
       "      <td>685</td>\n",
       "      <td>0.000065</td>\n",
       "    </tr>\n",
       "    <tr>\n",
       "      <th>78</th>\n",
       "      <td>laid</td>\n",
       "      <td>1.469190</td>\n",
       "      <td>614</td>\n",
       "      <td>0.000074</td>\n",
       "      <td>3124</td>\n",
       "      <td>0.000294</td>\n",
       "    </tr>\n",
       "    <tr>\n",
       "      <th>79</th>\n",
       "      <td>reverse</td>\n",
       "      <td>1.444767</td>\n",
       "      <td>247</td>\n",
       "      <td>0.000030</td>\n",
       "      <td>1256</td>\n",
       "      <td>0.000118</td>\n",
       "    </tr>\n",
       "    <tr>\n",
       "      <th>80</th>\n",
       "      <td>locked</td>\n",
       "      <td>1.441858</td>\n",
       "      <td>188</td>\n",
       "      <td>0.000023</td>\n",
       "      <td>965</td>\n",
       "      <td>0.000091</td>\n",
       "    </tr>\n",
       "    <tr>\n",
       "      <th>81</th>\n",
       "      <td>validation</td>\n",
       "      <td>1.441092</td>\n",
       "      <td>355</td>\n",
       "      <td>0.000043</td>\n",
       "      <td>1777</td>\n",
       "      <td>0.000167</td>\n",
       "    </tr>\n",
       "    <tr>\n",
       "      <th>82</th>\n",
       "      <td>provider</td>\n",
       "      <td>1.439608</td>\n",
       "      <td>137</td>\n",
       "      <td>0.000017</td>\n",
       "      <td>715</td>\n",
       "      <td>0.000067</td>\n",
       "    </tr>\n",
       "    <tr>\n",
       "      <th>83</th>\n",
       "      <td>mission</td>\n",
       "      <td>1.434372</td>\n",
       "      <td>217</td>\n",
       "      <td>0.000026</td>\n",
       "      <td>1098</td>\n",
       "      <td>0.000103</td>\n",
       "    </tr>\n",
       "    <tr>\n",
       "      <th>84</th>\n",
       "      <td>unicorn</td>\n",
       "      <td>1.431523</td>\n",
       "      <td>105</td>\n",
       "      <td>0.000013</td>\n",
       "      <td>555</td>\n",
       "      <td>0.000052</td>\n",
       "    </tr>\n",
       "    <tr>\n",
       "      <th>85</th>\n",
       "      <td>chick</td>\n",
       "      <td>1.430256</td>\n",
       "      <td>435</td>\n",
       "      <td>0.000053</td>\n",
       "      <td>2143</td>\n",
       "      <td>0.000202</td>\n",
       "    </tr>\n",
       "    <tr>\n",
       "      <th>89</th>\n",
       "      <td>banging</td>\n",
       "      <td>1.407361</td>\n",
       "      <td>128</td>\n",
       "      <td>0.000016</td>\n",
       "      <td>650</td>\n",
       "      <td>0.000061</td>\n",
       "    </tr>\n",
       "    <tr>\n",
       "      <th>90</th>\n",
       "      <td>submission</td>\n",
       "      <td>1.402366</td>\n",
       "      <td>495</td>\n",
       "      <td>0.000060</td>\n",
       "      <td>2365</td>\n",
       "      <td>0.000223</td>\n",
       "    </tr>\n",
       "    <tr>\n",
       "      <th>94</th>\n",
       "      <td>contribute</td>\n",
       "      <td>1.390866</td>\n",
       "      <td>390</td>\n",
       "      <td>0.000047</td>\n",
       "      <td>1852</td>\n",
       "      <td>0.000175</td>\n",
       "    </tr>\n",
       "    <tr>\n",
       "      <th>95</th>\n",
       "      <td>memo</td>\n",
       "      <td>1.389457</td>\n",
       "      <td>124</td>\n",
       "      <td>0.000015</td>\n",
       "      <td>620</td>\n",
       "      <td>0.000058</td>\n",
       "    </tr>\n",
       "    <tr>\n",
       "      <th>97</th>\n",
       "      <td>submissive</td>\n",
       "      <td>1.383015</td>\n",
       "      <td>102</td>\n",
       "      <td>0.000012</td>\n",
       "      <td>515</td>\n",
       "      <td>0.000049</td>\n",
       "    </tr>\n",
       "    <tr>\n",
       "      <th>98</th>\n",
       "      <td>monk</td>\n",
       "      <td>1.381580</td>\n",
       "      <td>134</td>\n",
       "      <td>0.000016</td>\n",
       "      <td>661</td>\n",
       "      <td>0.000062</td>\n",
       "    </tr>\n",
       "    <tr>\n",
       "      <th>99</th>\n",
       "      <td>lessons</td>\n",
       "      <td>1.381073</td>\n",
       "      <td>126</td>\n",
       "      <td>0.000015</td>\n",
       "      <td>624</td>\n",
       "      <td>0.000059</td>\n",
       "    </tr>\n",
       "  </tbody>\n",
       "</table>\n",
       "</div>"
      ],
      "text/plain": [
       "          word      sage  base_count  base_rate  treatment_count  \\\n",
       "0   theredpill  3.905576         121   0.000015             7496   \n",
       "6          trp  3.010930         617   0.000075            14665   \n",
       "15         smv  2.345077         247   0.000030             3089   \n",
       "16     redpill  2.316582         132   0.000016             1659   \n",
       "17         ltr  2.313719         314   0.000038             3774   \n",
       "18     oneitis  2.312531         111   0.000013             1408   \n",
       "20      forums  2.248905         221   0.000027             2522   \n",
       "21       alpha  2.237094         647   0.000078             7088   \n",
       "22      asktrp  2.207064         115   0.000014             1309   \n",
       "26        beta  2.117343         759   0.000092             7360   \n",
       "27       frame  2.101849         627   0.000076             6003   \n",
       "28        pill  2.076247        1031   0.000125             9562   \n",
       "31      pilled  1.995980         159   0.000019             1433   \n",
       "34   abundance  1.944876         184   0.000022             1563   \n",
       "35     hamster  1.940787         108   0.000013              947   \n",
       "36   hypergamy  1.926454         200   0.000024             1661   \n",
       "38       awalt  1.925716         218   0.000026             1802   \n",
       "39     sidebar  1.903454         344   0.000042             2736   \n",
       "40         red  1.900679        1604   0.000195            12438   \n",
       "41      plates  1.867800         256   0.000031             1984   \n",
       "45       plate  1.808086         295   0.000036             2143   \n",
       "47          rp  1.778031         369   0.000045             2584   \n",
       "48         pua  1.776036         150   0.000018             1089   \n",
       "51          bp  1.754476         202   0.000024             1412   \n",
       "60      chicks  1.672948         308   0.000037             1952   \n",
       "62      opened  1.633921         179   0.000022             1116   \n",
       "63     removed  1.619646        5166   0.000627            30115   \n",
       "70       karma  1.549589         309   0.000037             1731   \n",
       "73       dread  1.513449         121   0.000015              686   \n",
       "74       pussy  1.510515         846   0.000103             4466   \n",
       "75    strategy  1.504168         466   0.000057             2468   \n",
       "76       sluts  1.494313         151   0.000018              827   \n",
       "77       prize  1.481891         125   0.000015              685   \n",
       "78        laid  1.469190         614   0.000074             3124   \n",
       "79     reverse  1.444767         247   0.000030             1256   \n",
       "80      locked  1.441858         188   0.000023              965   \n",
       "81  validation  1.441092         355   0.000043             1777   \n",
       "82    provider  1.439608         137   0.000017              715   \n",
       "83     mission  1.434372         217   0.000026             1098   \n",
       "84     unicorn  1.431523         105   0.000013              555   \n",
       "85       chick  1.430256         435   0.000053             2143   \n",
       "89     banging  1.407361         128   0.000016              650   \n",
       "90  submission  1.402366         495   0.000060             2365   \n",
       "94  contribute  1.390866         390   0.000047             1852   \n",
       "95        memo  1.389457         124   0.000015              620   \n",
       "97  submissive  1.383015         102   0.000012              515   \n",
       "98        monk  1.381580         134   0.000016              661   \n",
       "99     lessons  1.381073         126   0.000015              624   \n",
       "\n",
       "    treatment_rate  \n",
       "0         0.000706  \n",
       "6         0.001382  \n",
       "15        0.000291  \n",
       "16        0.000156  \n",
       "17        0.000356  \n",
       "18        0.000133  \n",
       "20        0.000238  \n",
       "21        0.000668  \n",
       "22        0.000123  \n",
       "26        0.000694  \n",
       "27        0.000566  \n",
       "28        0.000901  \n",
       "31        0.000135  \n",
       "34        0.000147  \n",
       "35        0.000089  \n",
       "36        0.000157  \n",
       "38        0.000170  \n",
       "39        0.000258  \n",
       "40        0.001172  \n",
       "41        0.000187  \n",
       "45        0.000202  \n",
       "47        0.000244  \n",
       "48        0.000103  \n",
       "51        0.000133  \n",
       "60        0.000184  \n",
       "62        0.000105  \n",
       "63        0.002838  \n",
       "70        0.000163  \n",
       "73        0.000065  \n",
       "74        0.000421  \n",
       "75        0.000233  \n",
       "76        0.000078  \n",
       "77        0.000065  \n",
       "78        0.000294  \n",
       "79        0.000118  \n",
       "80        0.000091  \n",
       "81        0.000167  \n",
       "82        0.000067  \n",
       "83        0.000103  \n",
       "84        0.000052  \n",
       "85        0.000202  \n",
       "89        0.000061  \n",
       "90        0.000223  \n",
       "94        0.000175  \n",
       "95        0.000058  \n",
       "97        0.000049  \n",
       "98        0.000062  \n",
       "99        0.000059  "
      ]
     },
     "execution_count": 66,
     "metadata": {},
     "output_type": "execute_result"
    }
   ],
   "source": [
    "sage_lex = pd.read_csv('sage-output.csv')\n",
    "sage_lex[sage_lex.base_count >= 100]"
   ]
  },
  {
   "cell_type": "code",
   "execution_count": null,
   "metadata": {},
   "outputs": [],
   "source": []
  }
 ],
 "metadata": {
  "kernelspec": {
   "display_name": "Python 3",
   "language": "python",
   "name": "python3"
  },
  "language_info": {
   "codemirror_mode": {
    "name": "ipython",
    "version": 3
   },
   "file_extension": ".py",
   "mimetype": "text/x-python",
   "name": "python",
   "nbconvert_exporter": "python",
   "pygments_lexer": "ipython3",
   "version": "3.7.3"
  }
 },
 "nbformat": 4,
 "nbformat_minor": 1
}
