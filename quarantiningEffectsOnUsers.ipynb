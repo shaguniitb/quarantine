{
 "cells": [
  {
   "cell_type": "markdown",
   "metadata": {},
   "source": [
    "# This notebook shows the time series analysis of user activity for quarantined subreddit's members on (1) the overall Reddit and (2) the quarantined subreddit"
   ]
  },
  {
   "cell_type": "code",
   "execution_count": 1,
   "metadata": {},
   "outputs": [],
   "source": [
    "# -*- coding: utf-8 -*-"
   ]
  },
  {
   "cell_type": "code",
   "execution_count": 2,
   "metadata": {},
   "outputs": [],
   "source": [
    "import pandas as pd\n",
    "import json\n",
    "from scipy import stats\n",
    "import numpy as np\n",
    "import csv\n",
    "import pprint\n",
    "from collections import defaultdict\n",
    "\n",
    "import math\n",
    "import matplotlib.pyplot as plt; plt.rcdefaults()\n",
    "from IPython.display import Markdown, display\n",
    "\n",
    "import re\n",
    "import os\n",
    "import sys\n",
    "\n",
    "import time\n",
    "import datetime"
   ]
  },
  {
   "cell_type": "code",
   "execution_count": 3,
   "metadata": {},
   "outputs": [
    {
     "data": {
      "text/plain": [
       "131072"
      ]
     },
     "execution_count": 3,
     "metadata": {},
     "output_type": "execute_result"
    }
   ],
   "source": [
    "csv.field_size_limit(sys.maxsize)"
   ]
  },
  {
   "cell_type": "code",
   "execution_count": 4,
   "metadata": {},
   "outputs": [],
   "source": [
    "USER_HISTORY_FOLDER = \"/mnt/storage/quarantine/data/redpill_users_history\"\n",
    "RED_PILL_COMMENTS_FILE = \"/mnt/storage/quarantine/data/theRedPillComments.csv\"\n",
    "PRE_QUARANTINE_USERS_FILE = \"/mnt/storage/quarantine/data/preQuarantineUsers.csv\""
   ]
  },
  {
   "cell_type": "code",
   "execution_count": 5,
   "metadata": {},
   "outputs": [],
   "source": [
    "TIME_CHUNK_IN_DAYS = 10\n",
    "QUARANTINE_DATE = \"28/09/2018\"\n",
    "\n",
    "quarDataUnix = time.mktime(datetime.datetime.strptime(QUARANTINE_DATE, \"%d/%m/%Y\").timetuple())"
   ]
  },
  {
   "cell_type": "code",
   "execution_count": 6,
   "metadata": {},
   "outputs": [],
   "source": [
    "def getTimeChunkIndex(timeStamp):\n",
    "    timeStamp = float(timeStamp)\n",
    "    timeDiff = timeStamp - quarDataUnix\n",
    "    timeDiffDays = float(timeDiff)/(24*60*60) \n",
    "    chunkIndex = math.floor(timeDiffDays/TIME_CHUNK_IN_DAYS)\n",
    "    return int(chunkIndex)"
   ]
  },
  {
   "cell_type": "code",
   "execution_count": 7,
   "metadata": {},
   "outputs": [],
   "source": [
    "userPostCount = defaultdict(int)\n",
    "userPostOnQuarSubCount = defaultdict(int)"
   ]
  },
  {
   "cell_type": "code",
   "execution_count": null,
   "metadata": {},
   "outputs": [
    {
     "name": "stdout",
     "output_type": "stream",
     "text": [
      "fileCount =  10\n",
      "fileCount =  20\n"
     ]
    }
   ],
   "source": [
    "for subdir, dirs, files in os.walk(USER_HISTORY_FOLDER):\n",
    "    fileCount = 0\n",
    "    for file in files:\n",
    "        fileCount += 1\n",
    "        if (fileCount % 10 == 0):\n",
    "            print (\"fileCount = \", fileCount)\n",
    "        inputFile = os.path.join(subdir, file)\n",
    "        with open(inputFile) as csvfile:\n",
    "            readCSV = csv.DictReader(csvfile)\n",
    "            for row in readCSV:\n",
    "                author = row['author']     \n",
    "                postTime = row['created_utc']\n",
    "                timeChunkIndex = getTimeChunkIndex(postTime)\n",
    "                userPostCount[timeChunkIndex] += 1\n",
    "                subreddit = row['subreddit']\n",
    "                if (subreddit == 'TheRedPill'):\n",
    "                    userPostOnQuarSubCount[timeChunkIndex] += 1"
   ]
  },
  {
   "cell_type": "markdown",
   "metadata": {},
   "source": [
    "## Activity of r/theredpill users across Reddit"
   ]
  },
  {
   "cell_type": "code",
   "execution_count": null,
   "metadata": {
    "scrolled": false
   },
   "outputs": [],
   "source": [
    "lists = sorted(userPostCount.items())\n",
    "x, y = zip(*lists)\n",
    "plt.plot(x, y)\n",
    "plt.axvline(x=0)\n",
    "plt.rcParams[\"figure.figsize\"] = (20,8)\n",
    "plt.xlabel('Time-windows of 10 days, before and after the quarantine', fontsize=18)\n",
    "plt.ylabel('Total posts', fontsize=18)\n",
    "plt.show()"
   ]
  },
  {
   "cell_type": "markdown",
   "metadata": {},
   "source": [
    "### The above graph indicates that the overall user activity of quarantined subreddit's members on Reddit increased after the quarantining."
   ]
  },
  {
   "cell_type": "markdown",
   "metadata": {},
   "source": [
    "## Activity of r/theredpill users who posted before quarantining on r/theredpill"
   ]
  },
  {
   "cell_type": "code",
   "execution_count": null,
   "metadata": {
    "scrolled": false
   },
   "outputs": [],
   "source": [
    "lists = sorted(userPostOnQuarSubCount.items())\n",
    "x, y = zip(*lists)\n",
    "plt.plot(x, y)\n",
    "plt.axvline(x=0)\n",
    "plt.rcParams[\"figure.figsize\"] = (20,8)\n",
    "plt.xlabel('Time-windows of 10 days, before and after the quarantine', fontsize=18)\n",
    "plt.ylabel('Total posts', fontsize=18)\n",
    "plt.show()"
   ]
  },
  {
   "cell_type": "markdown",
   "metadata": {},
   "source": [
    "### The above graph indicates that the user activity of quarantined subreddit's members on the (quarantined) subreddit itself rapidly decreased after the quarantining."
   ]
  },
  {
   "cell_type": "markdown",
   "metadata": {},
   "source": [
    "## Activity of all users on r/theredpill"
   ]
  },
  {
   "cell_type": "code",
   "execution_count": null,
   "metadata": {},
   "outputs": [],
   "source": [
    "preQuarantineUsers = set()"
   ]
  },
  {
   "cell_type": "code",
   "execution_count": null,
   "metadata": {},
   "outputs": [],
   "source": [
    "with open(RED_PILL_COMMENTS_FILE) as csvfile:\n",
    "    readCSV = csv.DictReader(csvfile)\n",
    "    for row in readCSV:\n",
    "        author = row['author']\n",
    "        if (author != \"[deleted]\"):\n",
    "            created_utc = float(row['created_utc'])\n",
    "            if (created_utc < quarDataUnix):\n",
    "                preQuarantineUsers.add(author)\n",
    "            "
   ]
  },
  {
   "cell_type": "code",
   "execution_count": null,
   "metadata": {},
   "outputs": [],
   "source": [
    "preQuarantineUserPostCount = defaultdict(int)\n",
    "newUserPostCount = defaultdict(int)"
   ]
  },
  {
   "cell_type": "code",
   "execution_count": null,
   "metadata": {},
   "outputs": [],
   "source": [
    "with open(RED_PILL_COMMENTS_FILE) as csvfile:\n",
    "    readCSV = csv.DictReader(csvfile)\n",
    "    for row in readCSV:\n",
    "        author = row['author']\n",
    "        if (author != \"[deleted]\"):\n",
    "            postTime = row['created_utc']\n",
    "            timeChunkIndex = getTimeChunkIndex(postTime)\n",
    "            \n",
    "            if (author in preQuarantineUsers):\n",
    "                preQuarantineUserPostCount[timeChunkIndex] += 1\n",
    "            else:\n",
    "                newUserPostCount[timeChunkIndex] += 1     "
   ]
  },
  {
   "cell_type": "code",
   "execution_count": null,
   "metadata": {},
   "outputs": [],
   "source": [
    "lists = sorted(preQuarantineUserPostCount.items())\n",
    "x1, y1 = zip(*lists)\n",
    "plt.plot(x1, y1, label='Pre-quarantine users')\n",
    "\n",
    "lists = sorted(newUserPostCount.items())\n",
    "x2, y2 = zip(*lists)\n",
    "plt.plot(x2, y2, label='New users')\n",
    "\n",
    "plt.axvline(x=0)\n",
    "plt.legend()\n",
    "\n",
    "plt.xlabel('Time-windows of 10 days, before and after the quarantine', fontsize=18)\n",
    "plt.ylabel('Total posts', fontsize=18)\n",
    "\n",
    "plt.show()"
   ]
  },
  {
   "cell_type": "markdown",
   "metadata": {},
   "source": [
    "### In the graph above, pre-quarantine users are those who posted on r/theredpill (TRP) at least once prior to being quarantined. New users are those who had never posted on TRP before the quarantining. This shows that new users end up becoming the prominent contributors, and remain so for many months after the quarantining"
   ]
  },
  {
   "cell_type": "markdown",
   "metadata": {},
   "source": [
    "## New user influx"
   ]
  },
  {
   "cell_type": "code",
   "execution_count": null,
   "metadata": {},
   "outputs": [],
   "source": [
    "authorsInEachChunk = defaultdict(set)"
   ]
  },
  {
   "cell_type": "code",
   "execution_count": null,
   "metadata": {},
   "outputs": [],
   "source": [
    "with open(RED_PILL_COMMENTS_FILE) as csvfile:\n",
    "    readCSV = csv.DictReader(csvfile)\n",
    "    for row in readCSV:\n",
    "        author = row['author']\n",
    "        if (author != \"[deleted]\"):\n",
    "            postTime = row['created_utc']\n",
    "            timeChunkIndex = getTimeChunkIndex(postTime)\n",
    "            authorsInEachChunk[timeChunkIndex].add(author)            "
   ]
  },
  {
   "cell_type": "code",
   "execution_count": null,
   "metadata": {},
   "outputs": [],
   "source": [
    "lists = sorted(authorsInEachChunk.items())"
   ]
  },
  {
   "cell_type": "code",
   "execution_count": null,
   "metadata": {},
   "outputs": [],
   "source": [
    "seenUsersSet = set()\n",
    "for ulist in lists[0:3]:\n",
    "    chunkUsers = ulist[1]\n",
    "    seenUsersSet = seenUsersSet.union(chunkUsers)"
   ]
  },
  {
   "cell_type": "code",
   "execution_count": null,
   "metadata": {},
   "outputs": [],
   "source": [
    "newsUsersCount = defaultdict(int)\n",
    "for ulist in lists[4:]:\n",
    "    chunkIndex = ulist[0]\n",
    "    chunkUsers = ulist[1]\n",
    "    newUsersSet = chunkUsers.difference(seenUsersSet)\n",
    "    newsUsersCount[chunkIndex] = len(newUsersSet)\n",
    "    seenUsersSet = seenUsersSet.union(chunkUsers)"
   ]
  },
  {
   "cell_type": "code",
   "execution_count": null,
   "metadata": {
    "scrolled": false
   },
   "outputs": [],
   "source": [
    "lists = sorted(newsUsersCount.items())\n",
    "x, y = zip(*lists)\n",
    "plt.plot(x, y)\n",
    "plt.axvline(x=0)\n",
    "plt.rcParams[\"figure.figsize\"] = (20,8)\n",
    "plt.xlabel('Time-windows of 10 days, before and after the quarantine', fontsize=18)\n",
    "plt.ylabel('Number of new users who posted in each time window', fontsize=18)\n",
    "plt.show()"
   ]
  },
  {
   "cell_type": "markdown",
   "metadata": {},
   "source": [
    "### The above graph shows that the new users influx dropped down after the quarantine. Curiously, the drop happened immediately after the quarantine and sustained throughout"
   ]
  },
  {
   "cell_type": "markdown",
   "metadata": {},
   "source": [
    "# Analysis of toxicity scores"
   ]
  },
  {
   "cell_type": "code",
   "execution_count": null,
   "metadata": {},
   "outputs": [],
   "source": [
    "trp_toxicity_df = pd.read_csv(\"/mnt/storage/quarantine/data/theRedPillComments-toxicity.csv\")\n",
    "\n",
    "TrpToxicityDistribution = {}\n",
    "for i, row in trp_toxicity_df.iterrows():\n",
    "        author = row['author']\n",
    "        toxicity = row['toxicity']\n",
    "\n",
    "        if (toxicity != -1):\n",
    "            postTime = row['created_utc']\n",
    "            timeChunkIndex = getTimeChunkIndex(postTime)\n",
    "            \n",
    "            if timeChunkIndex in TrpToxicityDistribution:\n",
    "                TrpToxicityDistribution[timeChunkIndex].append(toxicity)\n",
    "            else:\n",
    "                TrpToxicityDistribution[timeChunkIndex] = []\n",
    "                TrpToxicityDistribution[timeChunkIndex].append(toxicity)\n",
    "\n",
    "TrpMeanToxicity = {}\n",
    "for k in TrpToxicityDistribution:\n",
    "    TrpMeanToxicity[k] = np.mean(TrpToxicityDistribution[k])"
   ]
  },
  {
   "cell_type": "code",
   "execution_count": null,
   "metadata": {},
   "outputs": [],
   "source": [
    "lists = sorted(TrpMeanToxicity.items())\n",
    "x, y = zip(*lists)\n",
    "plt.plot(x, y)\n",
    "plt.axvline(x=0)\n",
    "plt.rcParams[\"figure.figsize\"] = (20,8)\n",
    "plt.xlabel('Time-windows of 10 days, before and after the quarantine', fontsize=18)\n",
    "plt.ylabel('Mean toxicity scores on r/TRP', fontsize=18)\n",
    "plt.show()"
   ]
  },
  {
   "cell_type": "markdown",
   "metadata": {},
   "source": [
    "## The mean toxicity levels within r/TRP appear to be unchanged (if not higher than before) following the quarantining, indicating that there were no changes in posting behavior. \n",
    "\n",
    "Next, we look at how this related to the rate of removal (i.e., moderator actions) within the subreddit."
   ]
  },
  {
   "cell_type": "markdown",
   "metadata": {},
   "source": [
    "# Analysis of removed comments"
   ]
  },
  {
   "cell_type": "code",
   "execution_count": null,
   "metadata": {},
   "outputs": [],
   "source": [
    "data = pd.read_csv(\"/mnt/storage/quarantine/data/theRedPillComments-toxicity.csv\")\n",
    "\n",
    "TrpRemovalCount = {}\n",
    "TotalNumberComments = {}\n",
    "\n",
    "for i, row in data.iterrows():\n",
    "        body = row['body']\n",
    "        postTime = row['created_utc']\n",
    "        timeChunkIndex = getTimeChunkIndex(postTime)\n",
    "        \n",
    "        if timeChunkIndex in TotalNumberComments:\n",
    "            TotalNumberComments[timeChunkIndex] += 1\n",
    "        else:\n",
    "            TotalNumberComments[timeChunkIndex] = 1\n",
    "        \n",
    "        ###count #removed\n",
    "        if (body == \"[removed]\"):\n",
    "            if timeChunkIndex in TrpRemovalCount:\n",
    "                TrpRemovalCount[timeChunkIndex] += 1\n",
    "            else:\n",
    "                TrpRemovalCount[timeChunkIndex] = 1\n",
    "\n",
    "##get the removal rate: i.e., #removed comments normalized by #total comments\n",
    "TrpRemovalRate = {}\n",
    "for k in TrpRemovalCount:\n",
    "    if TotalNumberComments[k] == 0:\n",
    "        TrpRemovalRate[k] = 0\n",
    "    else:      \n",
    "        TrpRemovalRate[k] = float(TrpRemovalCount[k])/(TotalNumberComments[k])"
   ]
  },
  {
   "cell_type": "code",
   "execution_count": null,
   "metadata": {},
   "outputs": [],
   "source": [
    "lists = sorted(TotalNumberComments.items())\n",
    "x, y = zip(*lists)\n",
    "plt.plot(x, y)\n",
    "plt.axvline(x=0)\n",
    "plt.rcParams[\"figure.figsize\"] = (20,8)\n",
    "plt.xlabel('Time-windows of 10 days, before and after the quarantine', fontsize=18)\n",
    "plt.ylabel('Total number of comments in r/TRP', fontsize=18)\n",
    "plt.show()"
   ]
  },
  {
   "cell_type": "code",
   "execution_count": null,
   "metadata": {},
   "outputs": [],
   "source": [
    "lists = sorted(TrpRemovalCount.items())\n",
    "x, y = zip(*lists)\n",
    "plt.plot(x, y)\n",
    "plt.axvline(x=0)\n",
    "plt.rcParams[\"figure.figsize\"] = (20,8)\n",
    "plt.xlabel('Time-windows of 10 days, before and after the quarantine', fontsize=18)\n",
    "plt.ylabel('Number of comments removed from r/TRP', fontsize=18)\n",
    "plt.show()"
   ]
  },
  {
   "cell_type": "code",
   "execution_count": null,
   "metadata": {},
   "outputs": [],
   "source": [
    "lists = sorted(TrpRemovalRate.items())\n",
    "x, y = zip(*lists)\n",
    "plt.plot(x, y)\n",
    "plt.axvline(x=0)\n",
    "plt.rcParams[\"figure.figsize\"] = (20,8)\n",
    "plt.xlabel('Time-windows of 10 days, before and after the quarantine', fontsize=18)\n",
    "plt.ylabel('Rate of comment removal in r/TRP', fontsize=18)\n",
    "plt.show()"
   ]
  },
  {
   "cell_type": "markdown",
   "metadata": {},
   "source": [
    "## *Observation:* The rate of removal within r/TheRedPill seems to have dropped following the quarantining, despite the mean toxicity levels remaining relatively same!"
   ]
  },
  {
   "cell_type": "code",
   "execution_count": null,
   "metadata": {},
   "outputs": [],
   "source": []
  }
 ],
 "metadata": {
  "kernelspec": {
   "display_name": "Python 3",
   "language": "python",
   "name": "python3"
  },
  "language_info": {
   "codemirror_mode": {
    "name": "ipython",
    "version": 3
   },
   "file_extension": ".py",
   "mimetype": "text/x-python",
   "name": "python",
   "nbconvert_exporter": "python",
   "pygments_lexer": "ipython3",
   "version": "3.7.0"
  }
 },
 "nbformat": 4,
 "nbformat_minor": 2
}
