{
 "cells": [
  {
   "cell_type": "markdown",
   "metadata": {},
   "source": [
    "# This file reads the comments and posts posted in the quarantined subreddit six months before and six months after the quarantining, and writes out a file of users who authored these comments and posts. It also tests hypothesis 1."
   ]
  },
  {
   "cell_type": "code",
   "execution_count": 1,
   "metadata": {},
   "outputs": [],
   "source": [
    "# -*- coding: utf-8 -*-"
   ]
  },
  {
   "cell_type": "code",
   "execution_count": 2,
   "metadata": {},
   "outputs": [],
   "source": [
    "import pandas as pd\n",
    "import json\n",
    "from scipy import stats\n",
    "import numpy as np\n",
    "import csv\n",
    "import pprint\n",
    "from collections import defaultdict\n",
    "\n",
    "import math\n",
    "import matplotlib.pyplot as plt; plt.rcdefaults()\n",
    "from IPython.display import Markdown, display\n",
    "\n",
    "import re\n",
    "\n",
    "import time\n",
    "import datetime"
   ]
  },
  {
   "cell_type": "code",
   "execution_count": 3,
   "metadata": {},
   "outputs": [],
   "source": [
    "ALL_COMMENTS_FILE = \"/mnt/storage/quarantine/data/theRedPillComments.csv\"\n",
    "ALL_SUBMISSIONS_FILE = \"/mnt/storage/quarantine/data/theRedPillSubmissions.csv\"\n",
    "PRE_QUARANTINE_USERS_FILE = \"/mnt/storage/quarantine/data/preQuarantineUsers.csv\""
   ]
  },
  {
   "cell_type": "code",
   "execution_count": 4,
   "metadata": {},
   "outputs": [],
   "source": [
    "QUARANTINE_DATE = \"28/09/2018\"\n",
    "MAX_POSTS_THRESHOLD = 10000"
   ]
  },
  {
   "cell_type": "code",
   "execution_count": 5,
   "metadata": {},
   "outputs": [],
   "source": [
    "quarDateUnix = time.mktime(datetime.datetime.strptime(QUARANTINE_DATE, \"%d/%m/%Y\").timetuple())"
   ]
  },
  {
   "cell_type": "code",
   "execution_count": 6,
   "metadata": {},
   "outputs": [
    {
     "name": "stdout",
     "output_type": "stream",
     "text": [
      "First Date: 1522555200.0\n",
      "Last Date: 1553659200.0\n"
     ]
    }
   ],
   "source": [
    "firstDateUnix = quarDateUnix - 180*24*3600\n",
    "lastDateUnix = quarDateUnix + 180*24*3600\n",
    "\n",
    "print (\"First Date:\", firstDateUnix)\n",
    "print (\"Last Date:\", lastDateUnix)"
   ]
  },
  {
   "cell_type": "code",
   "execution_count": 7,
   "metadata": {},
   "outputs": [],
   "source": [
    "df_comments = pd.read_csv(ALL_COMMENTS_FILE,\n",
    "                          usecols = [\"created_utc\", \"subreddit\", \"author\", \"score\"])"
   ]
  },
  {
   "cell_type": "code",
   "execution_count": 8,
   "metadata": {},
   "outputs": [],
   "source": [
    "df_submissions = pd.read_csv(ALL_SUBMISSIONS_FILE,\n",
    "                      usecols = [\"created_utc\", \"subreddit\", \"author\", \"score\"])"
   ]
  },
  {
   "cell_type": "code",
   "execution_count": 9,
   "metadata": {},
   "outputs": [
    {
     "name": "stderr",
     "output_type": "stream",
     "text": [
      "/nethome/sjhaver3/anaconda3/lib/python3.7/site-packages/ipykernel_launcher.py:1: FutureWarning: Sorting because non-concatenation axis is not aligned. A future version\n",
      "of pandas will change to not sort by default.\n",
      "\n",
      "To accept the future behavior, pass 'sort=False'.\n",
      "\n",
      "To retain the current behavior and silence the warning, pass 'sort=True'.\n",
      "\n",
      "  \"\"\"Entry point for launching an IPython kernel.\n"
     ]
    }
   ],
   "source": [
    "df = pd.concat([df_comments, df_submissions], ignore_index=True)"
   ]
  },
  {
   "cell_type": "code",
   "execution_count": 10,
   "metadata": {},
   "outputs": [],
   "source": [
    "df = df[df.author != \"[deleted]\"]"
   ]
  },
  {
   "cell_type": "code",
   "execution_count": 11,
   "metadata": {},
   "outputs": [],
   "source": [
    "# We don't need these filters anymore because I updated the datasets themselves such that these values are excluded.\n",
    "\n",
    "# df = df[df.created_utc > firstDateUnix]\n",
    "# df = df[df.created_utc < lastDateUnix]"
   ]
  },
  {
   "cell_type": "code",
   "execution_count": 12,
   "metadata": {},
   "outputs": [
    {
     "data": {
      "text/plain": [
       "194442"
      ]
     },
     "execution_count": 12,
     "metadata": {},
     "output_type": "execute_result"
    }
   ],
   "source": [
    "len(df)"
   ]
  },
  {
   "cell_type": "code",
   "execution_count": 13,
   "metadata": {},
   "outputs": [],
   "source": [
    "dfPast = df[df.created_utc <= quarDateUnix]\n",
    "dfFuture = df[df.created_utc > quarDateUnix]"
   ]
  },
  {
   "cell_type": "code",
   "execution_count": 14,
   "metadata": {},
   "outputs": [],
   "source": [
    "dfPastGroups = dfPast.groupby('author')\n",
    "dfFutureGroups = dfFuture.groupby('author')"
   ]
  },
  {
   "cell_type": "markdown",
   "metadata": {},
   "source": [
    "## Collecting users who posted at least twice and at most 10000 times before the quarantine"
   ]
  },
  {
   "cell_type": "code",
   "execution_count": 15,
   "metadata": {},
   "outputs": [],
   "source": [
    "count = 0\n",
    "TRPAuthors = []\n",
    "for author, posts in dfPastGroups:\n",
    "    numPosts = len(posts)\n",
    "    if (numPosts > 1 and numPosts < MAX_POSTS_THRESHOLD):\n",
    "        TRPAuthors.append(author) "
   ]
  },
  {
   "cell_type": "code",
   "execution_count": 16,
   "metadata": {},
   "outputs": [],
   "source": [
    "TRPAuthorsdf = pd.DataFrame(TRPAuthors, columns=[\"Author\"])"
   ]
  },
  {
   "cell_type": "code",
   "execution_count": 17,
   "metadata": {},
   "outputs": [],
   "source": [
    "TRPAuthorsdf.to_csv(PRE_QUARANTINE_USERS_FILE, index=False)"
   ]
  },
  {
   "cell_type": "code",
   "execution_count": 18,
   "metadata": {},
   "outputs": [
    {
     "data": {
      "text/plain": [
       "10617"
      ]
     },
     "execution_count": 18,
     "metadata": {},
     "output_type": "execute_result"
    }
   ],
   "source": [
    "len(TRPAuthorsdf)"
   ]
  },
  {
   "cell_type": "markdown",
   "metadata": {},
   "source": [
    "## Detecting users who did not depart after the quarantine"
   ]
  },
  {
   "cell_type": "code",
   "execution_count": 19,
   "metadata": {},
   "outputs": [],
   "source": [
    "dfPastAuthors = set(dfPastGroups.groups.keys())\n",
    "dfFutureAuthors = set(dfFutureGroups.groups.keys())"
   ]
  },
  {
   "cell_type": "code",
   "execution_count": 20,
   "metadata": {},
   "outputs": [],
   "source": [
    "departedAuthors = dfPastAuthors - dfFutureAuthors"
   ]
  },
  {
   "cell_type": "code",
   "execution_count": 21,
   "metadata": {},
   "outputs": [],
   "source": [
    "nonDepartedAuthors = dfPastAuthors - departedAuthors"
   ]
  },
  {
   "cell_type": "code",
   "execution_count": 22,
   "metadata": {},
   "outputs": [],
   "source": [
    "authorActivityLevels = {}\n",
    "authorTotalPosts = {}\n",
    "for author, posts in dfPastGroups:\n",
    "    numPosts = len(posts)\n",
    "    if (numPosts > 1 and numPosts < MAX_POSTS_THRESHOLD):\n",
    "        postTimes = posts['created_utc'].tolist()\n",
    "        firstPostTime = min(postTimes)\n",
    "        lastPostTime = max(postTimes)\n",
    "        firstLastPostDiff = float(lastPostTime - firstPostTime)/(24*60*60) \n",
    "        authorActivityLevels[author] = numPosts/firstLastPostDiff\n",
    "        authorTotalPosts[author] = numPosts"
   ]
  },
  {
   "cell_type": "markdown",
   "metadata": {},
   "source": [
    "## Comparing activity levels of departed users and non-departed users in the quarantined sub before the quarantining."
   ]
  },
  {
   "cell_type": "code",
   "execution_count": 23,
   "metadata": {},
   "outputs": [],
   "source": [
    "departedAuthorsActivity = []\n",
    "nonDepartedAuthorsActivity = []\n",
    "for author in authorActivityLevels.keys():\n",
    "    activity = authorActivityLevels[author]\n",
    "    if (author in nonDepartedAuthors):\n",
    "        # Non-departed Author\n",
    "        nonDepartedAuthorsActivity.append(activity)\n",
    "    else:\n",
    "        # Departed Author\n",
    "        departedAuthorsActivity.append(activity)"
   ]
  },
  {
   "cell_type": "code",
   "execution_count": 24,
   "metadata": {},
   "outputs": [
    {
     "data": {
      "text/plain": [
       "count     7648.00000000\n",
       "mean        77.81608989\n",
       "std        603.94723169\n",
       "min          0.01159789\n",
       "25%          0.07814412\n",
       "50%          0.24777084\n",
       "75%          2.52677519\n",
       "max      34560.00000000\n",
       "dtype: object"
      ]
     },
     "execution_count": 24,
     "metadata": {},
     "output_type": "execute_result"
    }
   ],
   "source": [
    "s = pd.Series(departedAuthorsActivity)\n",
    "s.describe().apply(lambda x: format(x, '.8f'))"
   ]
  },
  {
   "cell_type": "code",
   "execution_count": 25,
   "metadata": {},
   "outputs": [
    {
     "data": {
      "text/plain": [
       "count    2969.00000000\n",
       "mean       18.99260871\n",
       "std       218.16368767\n",
       "min         0.01116558\n",
       "25%         0.07107235\n",
       "50%         0.15290484\n",
       "75%         0.40607395\n",
       "max      6171.42857143\n",
       "dtype: object"
      ]
     },
     "execution_count": 25,
     "metadata": {},
     "output_type": "execute_result"
    }
   ],
   "source": [
    "s = pd.Series(nonDepartedAuthorsActivity)\n",
    "s.describe().apply(lambda x: format(x, '.8f'))"
   ]
  },
  {
   "cell_type": "code",
   "execution_count": 26,
   "metadata": {},
   "outputs": [
    {
     "data": {
      "text/plain": [
       "Ttest_indResult(statistic=5.1774538447187, pvalue=2.2905161843846927e-07)"
      ]
     },
     "execution_count": 26,
     "metadata": {},
     "output_type": "execute_result"
    }
   ],
   "source": [
    "# T - test\n",
    "ttest=stats.ttest_ind(departedAuthorsActivity, nonDepartedAuthorsActivity)\n",
    "ttest"
   ]
  },
  {
   "cell_type": "markdown",
   "metadata": {},
   "source": [
    "## The above results indicate that the pre-quarantine activity of departed users is significantly higher than the pre-quarantine activity of non-departed users. Therefore, hypthesis 1 is rejected. This result also counteracts the findings of prior research."
   ]
  },
  {
   "cell_type": "markdown",
   "metadata": {},
   "source": [
    "## Comparing total posting activity of departed users and non-departed users in the quarantined sub before the quarantining."
   ]
  },
  {
   "cell_type": "code",
   "execution_count": 27,
   "metadata": {},
   "outputs": [],
   "source": [
    "departedAuthorsPosts = []\n",
    "nonDepartedAuthorsPosts = []\n",
    "for author in authorTotalPosts.keys():\n",
    "    posts = authorTotalPosts[author]\n",
    "    if (author in nonDepartedAuthors):\n",
    "        # Non-departed Author\n",
    "        nonDepartedAuthorsPosts.append(posts)\n",
    "    else:\n",
    "        # Departed Author\n",
    "        departedAuthorsPosts.append(posts)"
   ]
  },
  {
   "cell_type": "code",
   "execution_count": 28,
   "metadata": {},
   "outputs": [
    {
     "data": {
      "text/plain": [
       "count    7648.00000000\n",
       "mean        7.68423117\n",
       "std        16.48912532\n",
       "min         2.00000000\n",
       "25%         2.00000000\n",
       "50%         3.00000000\n",
       "75%         7.00000000\n",
       "max       573.00000000\n",
       "dtype: object"
      ]
     },
     "execution_count": 28,
     "metadata": {},
     "output_type": "execute_result"
    }
   ],
   "source": [
    "s = pd.Series(departedAuthorsPosts)\n",
    "s.describe().apply(lambda x: format(x, '.8f'))"
   ]
  },
  {
   "cell_type": "code",
   "execution_count": 29,
   "metadata": {},
   "outputs": [
    {
     "data": {
      "text/plain": [
       "count    2969.00000000\n",
       "mean       21.86998990\n",
       "std        51.76781767\n",
       "min         2.00000000\n",
       "25%         3.00000000\n",
       "50%         7.00000000\n",
       "75%        20.00000000\n",
       "max       952.00000000\n",
       "dtype: object"
      ]
     },
     "execution_count": 29,
     "metadata": {},
     "output_type": "execute_result"
    }
   ],
   "source": [
    "s = pd.Series(nonDepartedAuthorsPosts)\n",
    "s.describe().apply(lambda x: format(x, '.8f'))"
   ]
  },
  {
   "cell_type": "code",
   "execution_count": 30,
   "metadata": {},
   "outputs": [
    {
     "data": {
      "text/plain": [
       "Ttest_indResult(statistic=-21.338936750618757, pvalue=5.819703512568361e-99)"
      ]
     },
     "execution_count": 30,
     "metadata": {},
     "output_type": "execute_result"
    }
   ],
   "source": [
    "# T - test\n",
    "ttest=stats.ttest_ind(departedAuthorsPosts, nonDepartedAuthorsPosts)\n",
    "ttest"
   ]
  },
  {
   "cell_type": "markdown",
   "metadata": {},
   "source": [
    "## The above results indicate that the total pre-quarantine posts of departed users are significantly lower than the total pre-quarantine posts of non-departed users. Therefore, hypthesis 1 is not rejected using this measure of 'activity'. "
   ]
  },
  {
   "cell_type": "markdown",
   "metadata": {},
   "source": [
    "## Printing Users list for futher Google Big Data queries"
   ]
  },
  {
   "cell_type": "code",
   "execution_count": 32,
   "metadata": {
    "scrolled": true
   },
   "outputs": [],
   "source": [
    "tf = pd.read_csv(PRE_QUARANTINE_USERS_FILE)\n",
    "\n",
    "quot = \"\\\"\"\n",
    "text = \"\"\n",
    "for sub in tf.Author:\n",
    "    text = text + quot + sub + quot + \",\"\n",
    "\n",
    "lb = \"(\"\n",
    "rb = \")\"\n",
    "# print(lb + text[:-1] + rb)"
   ]
  }
 ],
 "metadata": {
  "kernelspec": {
   "display_name": "Python 3",
   "language": "python",
   "name": "python3"
  },
  "language_info": {
   "codemirror_mode": {
    "name": "ipython",
    "version": 3
   },
   "file_extension": ".py",
   "mimetype": "text/x-python",
   "name": "python",
   "nbconvert_exporter": "python",
   "pygments_lexer": "ipython3",
   "version": "3.7.0"
  }
 },
 "nbformat": 4,
 "nbformat_minor": 2
}
