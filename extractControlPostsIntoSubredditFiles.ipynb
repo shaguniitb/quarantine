{
 "cells": [
  {
   "cell_type": "markdown",
   "metadata": {},
   "source": [
    "# This notebook reads posts in control subreddits, and writes them into separate files, one for each subreddit"
   ]
  },
  {
   "cell_type": "code",
   "execution_count": 1,
   "metadata": {},
   "outputs": [],
   "source": [
    "# -*- coding: utf-8 -*-"
   ]
  },
  {
   "cell_type": "code",
   "execution_count": 2,
   "metadata": {},
   "outputs": [],
   "source": [
    "import re\n",
    "import os\n",
    "import sys\n",
    "import pandas as pd\n",
    "import statsmodels.formula.api as smf\n",
    "import seaborn as sns\n",
    "import matplotlib.pyplot as plt\n",
    "%matplotlib inline\n",
    "import numpy as np\n",
    "import json\n",
    "from scipy import stats\n",
    "import csv\n",
    "import pprint\n",
    "from collections import defaultdict\n",
    "import time\n",
    "import datetime\n",
    "import math\n",
    "import glob\n",
    "# import matplotlib.pyplot as plt; plt.rcdefaults()\n",
    "# from IPython.display import Markdown, display"
   ]
  },
  {
   "cell_type": "code",
   "execution_count": 3,
   "metadata": {},
   "outputs": [],
   "source": [
    "CONTROL_COMMENTS_FOLDER = \"/mnt/storage/quarantine/data/control_comments\"\n",
    "CONTROL_SUBMISSIONS = \"/mnt/storage/quarantine/data/control_submissions.csv\"\n",
    "\n",
    "CONTROL_SUBREDDIT_COMMENTS_FOLDER = \"/mnt/storage/quarantine/data/control_subreddit_comments\"\n",
    "CONTROL_SUBREDDIT_SUBMISSIONS_FOLDER = \"/mnt/storage/quarantine/data/control_subreddit_submissions\""
   ]
  },
  {
   "cell_type": "code",
   "execution_count": 4,
   "metadata": {},
   "outputs": [
    {
     "name": "stderr",
     "output_type": "stream",
     "text": [
      "/nethome/sjhaver3/anaconda3/lib/python3.7/site-packages/IPython/core/interactiveshell.py:2785: DtypeWarning: Columns (1) have mixed types. Specify dtype option on import or set low_memory=False.\n",
      "  interactivity=interactivity, compiler=compiler, result=result)\n",
      "/nethome/sjhaver3/anaconda3/lib/python3.7/site-packages/IPython/core/interactiveshell.py:2785: DtypeWarning: Columns (1,2) have mixed types. Specify dtype option on import or set low_memory=False.\n",
      "  interactivity=interactivity, compiler=compiler, result=result)\n"
     ]
    }
   ],
   "source": [
    "all_files = glob.glob(CONTROL_COMMENTS_FOLDER + \"/*.csv\")\n",
    "\n",
    "li = []\n",
    "\n",
    "# Reading in comments\n",
    "for filename in all_files:\n",
    "    df = pd.read_csv(filename, index_col=None, header=0)\n",
    "    li.append(df)    \n",
    "\n",
    "frame = pd.concat(li, axis=0, ignore_index=True)"
   ]
  },
  {
   "cell_type": "markdown",
   "metadata": {},
   "source": [
    "## Writing comments"
   ]
  },
  {
   "cell_type": "code",
   "execution_count": 5,
   "metadata": {},
   "outputs": [],
   "source": [
    "dfSubreddits = frame.groupby('subreddit')"
   ]
  },
  {
   "cell_type": "code",
   "execution_count": 6,
   "metadata": {
    "scrolled": true
   },
   "outputs": [
    {
     "name": "stdout",
     "output_type": "stream",
     "text": [
      "/mnt/storage/quarantine/data/control_subreddit_comments/AJelqForYou.csv\n",
      "/mnt/storage/quarantine/data/control_subreddit_comments/AmISexy.csv\n",
      "/mnt/storage/quarantine/data/control_subreddit_comments/Anarcho_Capitalism.csv\n",
      "/mnt/storage/quarantine/data/control_subreddit_comments/AsianMasculinity.csv\n",
      "/mnt/storage/quarantine/data/control_subreddit_comments/AskFeminists.csv\n",
      "/mnt/storage/quarantine/data/control_subreddit_comments/AskThe_Donald.csv\n",
      "/mnt/storage/quarantine/data/control_subreddit_comments/BPDlovedones.csv\n",
      "/mnt/storage/quarantine/data/control_subreddit_comments/BattleOfTheSexes.csv\n",
      "/mnt/storage/quarantine/data/control_subreddit_comments/BlackPillScience.csv\n",
      "/mnt/storage/quarantine/data/control_subreddit_comments/Brogress.csv\n",
      "/mnt/storage/quarantine/data/control_subreddit_comments/C_S_T.csv\n",
      "/mnt/storage/quarantine/data/control_subreddit_comments/CapitalismVSocialism.csv\n",
      "/mnt/storage/quarantine/data/control_subreddit_comments/DarkEnlightenment.csv\n",
      "/mnt/storage/quarantine/data/control_subreddit_comments/Divorce.csv\n",
      "/mnt/storage/quarantine/data/control_subreddit_comments/Drama.csv\n",
      "/mnt/storage/quarantine/data/control_subreddit_comments/EqualAttraction.csv\n",
      "/mnt/storage/quarantine/data/control_subreddit_comments/ForeverAlone.csv\n",
      "/mnt/storage/quarantine/data/control_subreddit_comments/GoldandBlack.csv\n",
      "/mnt/storage/quarantine/data/control_subreddit_comments/IncelsWithoutHate.csv\n",
      "/mnt/storage/quarantine/data/control_subreddit_comments/Incelselfies.csv\n",
      "/mnt/storage/quarantine/data/control_subreddit_comments/JordanPeterson.csv\n",
      "/mnt/storage/quarantine/data/control_subreddit_comments/KotakuInAction.csv\n",
      "/mnt/storage/quarantine/data/control_subreddit_comments/MGTOW.csv\n",
      "/mnt/storage/quarantine/data/control_subreddit_comments/MGTOW2.csv\n",
      "/mnt/storage/quarantine/data/control_subreddit_comments/MensRights.csv\n",
      "/mnt/storage/quarantine/data/control_subreddit_comments/MuayThai.csv\n",
      "/mnt/storage/quarantine/data/control_subreddit_comments/NoFap.csv\n",
      "/mnt/storage/quarantine/data/control_subreddit_comments/Nootropics.csv\n",
      "/mnt/storage/quarantine/data/control_subreddit_comments/PEDs.csv\n",
      "/mnt/storage/quarantine/data/control_subreddit_comments/PurplePillDebate.csv\n",
      "/mnt/storage/quarantine/data/control_subreddit_comments/PussyPass.csv\n",
      "/mnt/storage/quarantine/data/control_subreddit_comments/RPChristians.csv\n",
      "/mnt/storage/quarantine/data/control_subreddit_comments/RedPillWomen.csv\n",
      "/mnt/storage/quarantine/data/control_subreddit_comments/Semenretention.csv\n",
      "/mnt/storage/quarantine/data/control_subreddit_comments/ShitPoliticsSays.csv\n",
      "/mnt/storage/quarantine/data/control_subreddit_comments/Shitstatistssay.csv\n",
      "/mnt/storage/quarantine/data/control_subreddit_comments/SocialEngineering.csv\n",
      "/mnt/storage/quarantine/data/control_subreddit_comments/SocialJusticeInAction.csv\n",
      "/mnt/storage/quarantine/data/control_subreddit_comments/StackAdvice.csv\n",
      "/mnt/storage/quarantine/data/control_subreddit_comments/Stoicism.csv\n",
      "/mnt/storage/quarantine/data/control_subreddit_comments/StopGaming.csv\n",
      "/mnt/storage/quarantine/data/control_subreddit_comments/Stronglifts5x5.csv\n",
      "/mnt/storage/quarantine/data/control_subreddit_comments/Supplements.csv\n",
      "/mnt/storage/quarantine/data/control_subreddit_comments/Testosterone.csv\n",
      "/mnt/storage/quarantine/data/control_subreddit_comments/The30DayChallenge.csv\n",
      "/mnt/storage/quarantine/data/control_subreddit_comments/TheBluePill.csv\n",
      "/mnt/storage/quarantine/data/control_subreddit_comments/TheNewRight.csv\n",
      "/mnt/storage/quarantine/data/control_subreddit_comments/Trufemcels.csv\n",
      "/mnt/storage/quarantine/data/control_subreddit_comments/WhereAreAllTheGoodMen.csv\n",
      "/mnt/storage/quarantine/data/control_subreddit_comments/afinil.csv\n",
      "/mnt/storage/quarantine/data/control_subreddit_comments/amateur_boxing.csv\n",
      "/mnt/storage/quarantine/data/control_subreddit_comments/antinatalism.csv\n",
      "/mnt/storage/quarantine/data/control_subreddit_comments/askMRP.csv\n",
      "/mnt/storage/quarantine/data/control_subreddit_comments/askseddit.csv\n",
      "/mnt/storage/quarantine/data/control_subreddit_comments/asktrp.csv\n",
      "/mnt/storage/quarantine/data/control_subreddit_comments/awakened.csv\n",
      "/mnt/storage/quarantine/data/control_subreddit_comments/aznidentity.csv\n",
      "/mnt/storage/quarantine/data/control_subreddit_comments/bald.csv\n",
      "/mnt/storage/quarantine/data/control_subreddit_comments/bigdickproblems.csv\n",
      "/mnt/storage/quarantine/data/control_subreddit_comments/bodybuilding.csv\n",
      "/mnt/storage/quarantine/data/control_subreddit_comments/coldshowers.csv\n",
      "/mnt/storage/quarantine/data/control_subreddit_comments/collapse.csv\n",
      "/mnt/storage/quarantine/data/control_subreddit_comments/dating.csv\n",
      "/mnt/storage/quarantine/data/control_subreddit_comments/datingoverthirty.csv\n",
      "/mnt/storage/quarantine/data/control_subreddit_comments/entp.csv\n",
      "/mnt/storage/quarantine/data/control_subreddit_comments/fragrance.csv\n",
      "/mnt/storage/quarantine/data/control_subreddit_comments/gainit.csv\n",
      "/mnt/storage/quarantine/data/control_subreddit_comments/hapas.csv\n",
      "/mnt/storage/quarantine/data/control_subreddit_comments/justlegbeardthings.csv\n",
      "/mnt/storage/quarantine/data/control_subreddit_comments/lawofattraction.csv\n",
      "/mnt/storage/quarantine/data/control_subreddit_comments/leanfire.csv\n",
      "/mnt/storage/quarantine/data/control_subreddit_comments/leangains.csv\n",
      "/mnt/storage/quarantine/data/control_subreddit_comments/lostgeneration.csv\n",
      "/mnt/storage/quarantine/data/control_subreddit_comments/marriedredpill.csv\n",
      "/mnt/storage/quarantine/data/control_subreddit_comments/martialarts.csv\n",
      "/mnt/storage/quarantine/data/control_subreddit_comments/metacanada.csv\n",
      "/mnt/storage/quarantine/data/control_subreddit_comments/nSuns.csv\n",
      "/mnt/storage/quarantine/data/control_subreddit_comments/nattyorjuice.csv\n",
      "/mnt/storage/quarantine/data/control_subreddit_comments/naturalbodybuilding.csv\n",
      "/mnt/storage/quarantine/data/control_subreddit_comments/nosurf.csv\n",
      "/mnt/storage/quarantine/data/control_subreddit_comments/phenibut.csv\n",
      "/mnt/storage/quarantine/data/control_subreddit_comments/pornfree.csv\n",
      "/mnt/storage/quarantine/data/control_subreddit_comments/pussypassdenied.csv\n",
      "/mnt/storage/quarantine/data/control_subreddit_comments/sales.csv\n",
      "/mnt/storage/quarantine/data/control_subreddit_comments/samharris.csv\n",
      "/mnt/storage/quarantine/data/control_subreddit_comments/seduction.csv\n",
      "/mnt/storage/quarantine/data/control_subreddit_comments/selfimprovement.csv\n",
      "/mnt/storage/quarantine/data/control_subreddit_comments/short.csv\n",
      "/mnt/storage/quarantine/data/control_subreddit_comments/socialskills.csv\n",
      "/mnt/storage/quarantine/data/control_subreddit_comments/sociopath.csv\n",
      "/mnt/storage/quarantine/data/control_subreddit_comments/steroids.csv\n",
      "/mnt/storage/quarantine/data/control_subreddit_comments/subredditcancer.csv\n",
      "/mnt/storage/quarantine/data/control_subreddit_comments/survivinginfidelity.csv\n",
      "/mnt/storage/quarantine/data/control_subreddit_comments/tressless.csv\n",
      "/mnt/storage/quarantine/data/control_subreddit_comments/truerateme.csv\n",
      "/mnt/storage/quarantine/data/control_subreddit_comments/walkaway.csv\n",
      "/mnt/storage/quarantine/data/control_subreddit_comments/weightroom.csv\n",
      "/mnt/storage/quarantine/data/control_subreddit_comments/whiteknighting.csv\n",
      "/mnt/storage/quarantine/data/control_subreddit_comments/zen.csv\n",
      "/mnt/storage/quarantine/data/control_subreddit_comments/zerocarb.csv\n"
     ]
    }
   ],
   "source": [
    "for subreddit, subredditPosts in dfSubreddits:\n",
    "    fileName = CONTROL_SUBREDDIT_COMMENTS_FOLDER + \"/\" + subreddit + \".csv\"\n",
    "    subredditPosts.to_csv(fileName, index=False)\n",
    "    print (fileName)"
   ]
  },
  {
   "cell_type": "markdown",
   "metadata": {},
   "source": [
    "## Writing submissions"
   ]
  },
  {
   "cell_type": "code",
   "execution_count": 7,
   "metadata": {},
   "outputs": [
    {
     "name": "stderr",
     "output_type": "stream",
     "text": [
      "/nethome/sjhaver3/anaconda3/lib/python3.7/site-packages/IPython/core/interactiveshell.py:2785: DtypeWarning: Columns (11,21,24,28,30) have mixed types. Specify dtype option on import or set low_memory=False.\n",
      "  interactivity=interactivity, compiler=compiler, result=result)\n"
     ]
    }
   ],
   "source": [
    "df = pd.read_csv(CONTROL_SUBMISSIONS)\n",
    "dfSubreddits = df.groupby('subreddit')"
   ]
  },
  {
   "cell_type": "code",
   "execution_count": 8,
   "metadata": {
    "scrolled": true
   },
   "outputs": [
    {
     "name": "stdout",
     "output_type": "stream",
     "text": [
      "/mnt/storage/quarantine/data/control_subreddit_submissions/AJelqForYou.csv\n",
      "/mnt/storage/quarantine/data/control_subreddit_submissions/AmISexy.csv\n",
      "/mnt/storage/quarantine/data/control_subreddit_submissions/Anarcho_Capitalism.csv\n",
      "/mnt/storage/quarantine/data/control_subreddit_submissions/AsianMasculinity.csv\n",
      "/mnt/storage/quarantine/data/control_subreddit_submissions/AskFeminists.csv\n",
      "/mnt/storage/quarantine/data/control_subreddit_submissions/AskThe_Donald.csv\n",
      "/mnt/storage/quarantine/data/control_subreddit_submissions/BPDlovedones.csv\n",
      "/mnt/storage/quarantine/data/control_subreddit_submissions/BattleOfTheSexes.csv\n",
      "/mnt/storage/quarantine/data/control_subreddit_submissions/BlackPillScience.csv\n",
      "/mnt/storage/quarantine/data/control_subreddit_submissions/Brogress.csv\n",
      "/mnt/storage/quarantine/data/control_subreddit_submissions/C_S_T.csv\n",
      "/mnt/storage/quarantine/data/control_subreddit_submissions/CapitalismVSocialism.csv\n",
      "/mnt/storage/quarantine/data/control_subreddit_submissions/DarkEnlightenment.csv\n",
      "/mnt/storage/quarantine/data/control_subreddit_submissions/Divorce.csv\n",
      "/mnt/storage/quarantine/data/control_subreddit_submissions/Drama.csv\n",
      "/mnt/storage/quarantine/data/control_subreddit_submissions/EqualAttraction.csv\n",
      "/mnt/storage/quarantine/data/control_subreddit_submissions/ForeverAlone.csv\n",
      "/mnt/storage/quarantine/data/control_subreddit_submissions/GoldandBlack.csv\n",
      "/mnt/storage/quarantine/data/control_subreddit_submissions/IncelsWithoutHate.csv\n",
      "/mnt/storage/quarantine/data/control_subreddit_submissions/Incelselfies.csv\n",
      "/mnt/storage/quarantine/data/control_subreddit_submissions/JordanPeterson.csv\n",
      "/mnt/storage/quarantine/data/control_subreddit_submissions/KotakuInAction.csv\n",
      "/mnt/storage/quarantine/data/control_subreddit_submissions/MGTOW.csv\n",
      "/mnt/storage/quarantine/data/control_subreddit_submissions/MGTOW2.csv\n",
      "/mnt/storage/quarantine/data/control_subreddit_submissions/MensRights.csv\n",
      "/mnt/storage/quarantine/data/control_subreddit_submissions/MuayThai.csv\n",
      "/mnt/storage/quarantine/data/control_subreddit_submissions/NoFap.csv\n",
      "/mnt/storage/quarantine/data/control_subreddit_submissions/Nootropics.csv\n",
      "/mnt/storage/quarantine/data/control_subreddit_submissions/PEDs.csv\n",
      "/mnt/storage/quarantine/data/control_subreddit_submissions/PurplePillDebate.csv\n",
      "/mnt/storage/quarantine/data/control_subreddit_submissions/PussyPass.csv\n",
      "/mnt/storage/quarantine/data/control_subreddit_submissions/RPChristians.csv\n",
      "/mnt/storage/quarantine/data/control_subreddit_submissions/RedPillWomen.csv\n",
      "/mnt/storage/quarantine/data/control_subreddit_submissions/Semenretention.csv\n",
      "/mnt/storage/quarantine/data/control_subreddit_submissions/ShitPoliticsSays.csv\n",
      "/mnt/storage/quarantine/data/control_subreddit_submissions/Shitstatistssay.csv\n",
      "/mnt/storage/quarantine/data/control_subreddit_submissions/SocialEngineering.csv\n",
      "/mnt/storage/quarantine/data/control_subreddit_submissions/SocialJusticeInAction.csv\n",
      "/mnt/storage/quarantine/data/control_subreddit_submissions/StackAdvice.csv\n",
      "/mnt/storage/quarantine/data/control_subreddit_submissions/Stoicism.csv\n",
      "/mnt/storage/quarantine/data/control_subreddit_submissions/StopGaming.csv\n",
      "/mnt/storage/quarantine/data/control_subreddit_submissions/Stronglifts5x5.csv\n",
      "/mnt/storage/quarantine/data/control_subreddit_submissions/Supplements.csv\n",
      "/mnt/storage/quarantine/data/control_subreddit_submissions/Testosterone.csv\n",
      "/mnt/storage/quarantine/data/control_subreddit_submissions/The30DayChallenge.csv\n",
      "/mnt/storage/quarantine/data/control_subreddit_submissions/TheBluePill.csv\n",
      "/mnt/storage/quarantine/data/control_subreddit_submissions/TheNewRight.csv\n",
      "/mnt/storage/quarantine/data/control_subreddit_submissions/Trufemcels.csv\n",
      "/mnt/storage/quarantine/data/control_subreddit_submissions/WhereAreAllTheGoodMen.csv\n",
      "/mnt/storage/quarantine/data/control_subreddit_submissions/afinil.csv\n",
      "/mnt/storage/quarantine/data/control_subreddit_submissions/amateur_boxing.csv\n",
      "/mnt/storage/quarantine/data/control_subreddit_submissions/antinatalism.csv\n",
      "/mnt/storage/quarantine/data/control_subreddit_submissions/askMRP.csv\n",
      "/mnt/storage/quarantine/data/control_subreddit_submissions/askseddit.csv\n",
      "/mnt/storage/quarantine/data/control_subreddit_submissions/asktrp.csv\n",
      "/mnt/storage/quarantine/data/control_subreddit_submissions/awakened.csv\n",
      "/mnt/storage/quarantine/data/control_subreddit_submissions/aznidentity.csv\n",
      "/mnt/storage/quarantine/data/control_subreddit_submissions/bald.csv\n",
      "/mnt/storage/quarantine/data/control_subreddit_submissions/bigdickproblems.csv\n",
      "/mnt/storage/quarantine/data/control_subreddit_submissions/bodybuilding.csv\n",
      "/mnt/storage/quarantine/data/control_subreddit_submissions/coldshowers.csv\n",
      "/mnt/storage/quarantine/data/control_subreddit_submissions/collapse.csv\n",
      "/mnt/storage/quarantine/data/control_subreddit_submissions/dating.csv\n",
      "/mnt/storage/quarantine/data/control_subreddit_submissions/datingoverthirty.csv\n",
      "/mnt/storage/quarantine/data/control_subreddit_submissions/entp.csv\n",
      "/mnt/storage/quarantine/data/control_subreddit_submissions/fragrance.csv\n",
      "/mnt/storage/quarantine/data/control_subreddit_submissions/gainit.csv\n",
      "/mnt/storage/quarantine/data/control_subreddit_submissions/hapas.csv\n",
      "/mnt/storage/quarantine/data/control_subreddit_submissions/justlegbeardthings.csv\n",
      "/mnt/storage/quarantine/data/control_subreddit_submissions/lawofattraction.csv\n",
      "/mnt/storage/quarantine/data/control_subreddit_submissions/leanfire.csv\n",
      "/mnt/storage/quarantine/data/control_subreddit_submissions/leangains.csv\n",
      "/mnt/storage/quarantine/data/control_subreddit_submissions/lostgeneration.csv\n",
      "/mnt/storage/quarantine/data/control_subreddit_submissions/marriedredpill.csv\n",
      "/mnt/storage/quarantine/data/control_subreddit_submissions/martialarts.csv\n",
      "/mnt/storage/quarantine/data/control_subreddit_submissions/metacanada.csv\n",
      "/mnt/storage/quarantine/data/control_subreddit_submissions/nSuns.csv\n",
      "/mnt/storage/quarantine/data/control_subreddit_submissions/nattyorjuice.csv\n",
      "/mnt/storage/quarantine/data/control_subreddit_submissions/naturalbodybuilding.csv\n",
      "/mnt/storage/quarantine/data/control_subreddit_submissions/nosurf.csv\n",
      "/mnt/storage/quarantine/data/control_subreddit_submissions/phenibut.csv\n",
      "/mnt/storage/quarantine/data/control_subreddit_submissions/pornfree.csv\n",
      "/mnt/storage/quarantine/data/control_subreddit_submissions/pussypassdenied.csv\n",
      "/mnt/storage/quarantine/data/control_subreddit_submissions/sales.csv\n",
      "/mnt/storage/quarantine/data/control_subreddit_submissions/samharris.csv\n",
      "/mnt/storage/quarantine/data/control_subreddit_submissions/seduction.csv\n",
      "/mnt/storage/quarantine/data/control_subreddit_submissions/selfimprovement.csv\n",
      "/mnt/storage/quarantine/data/control_subreddit_submissions/short.csv\n",
      "/mnt/storage/quarantine/data/control_subreddit_submissions/socialskills.csv\n",
      "/mnt/storage/quarantine/data/control_subreddit_submissions/sociopath.csv\n",
      "/mnt/storage/quarantine/data/control_subreddit_submissions/steroids.csv\n",
      "/mnt/storage/quarantine/data/control_subreddit_submissions/subredditcancer.csv\n",
      "/mnt/storage/quarantine/data/control_subreddit_submissions/survivinginfidelity.csv\n",
      "/mnt/storage/quarantine/data/control_subreddit_submissions/tressless.csv\n",
      "/mnt/storage/quarantine/data/control_subreddit_submissions/truerateme.csv\n",
      "/mnt/storage/quarantine/data/control_subreddit_submissions/walkaway.csv\n",
      "/mnt/storage/quarantine/data/control_subreddit_submissions/weightroom.csv\n",
      "/mnt/storage/quarantine/data/control_subreddit_submissions/whiteknighting.csv\n",
      "/mnt/storage/quarantine/data/control_subreddit_submissions/zen.csv\n",
      "/mnt/storage/quarantine/data/control_subreddit_submissions/zerocarb.csv\n"
     ]
    }
   ],
   "source": [
    "for subreddit, subredditPosts in dfSubreddits:\n",
    "    fileName = CONTROL_SUBREDDIT_SUBMISSIONS_FOLDER + \"/\" + subreddit + \".csv\"\n",
    "    subredditPosts.to_csv(fileName, index=False)\n",
    "    print (fileName)"
   ]
  }
 ],
 "metadata": {
  "kernelspec": {
   "display_name": "Python 3",
   "language": "python",
   "name": "python3"
  },
  "language_info": {
   "codemirror_mode": {
    "name": "ipython",
    "version": 3
   },
   "file_extension": ".py",
   "mimetype": "text/x-python",
   "name": "python",
   "nbconvert_exporter": "python",
   "pygments_lexer": "ipython3",
   "version": "3.7.0"
  }
 },
 "nbformat": 4,
 "nbformat_minor": 2
}
