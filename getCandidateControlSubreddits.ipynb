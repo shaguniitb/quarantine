{
 "cells": [
  {
   "cell_type": "markdown",
   "metadata": {},
   "source": [
    "# This notebook collects a sample of control subreddits based on co-posting. It reads the pre-quarantine Reddit-wide activity of all TRP users, and find the top 100 subreddits based on the percentage of TRP users posting in these subreddits."
   ]
  },
  {
   "cell_type": "code",
   "execution_count": 1,
   "metadata": {},
   "outputs": [],
   "source": [
    "# -*- coding: utf-8 -*-"
   ]
  },
  {
   "cell_type": "code",
   "execution_count": 2,
   "metadata": {},
   "outputs": [],
   "source": [
    "import re\n",
    "import os\n",
    "import sys\n",
    "import pandas as pd\n",
    "import statsmodels.formula.api as smf\n",
    "import seaborn as sns\n",
    "import matplotlib.pyplot as plt\n",
    "%matplotlib inline\n",
    "import numpy as np\n",
    "import json\n",
    "from scipy import stats\n",
    "import csv\n",
    "import pprint\n",
    "from collections import defaultdict\n",
    "import time\n",
    "import datetime\n",
    "import math\n",
    "import glob\n",
    "# import matplotlib.pyplot as plt; plt.rcdefaults()\n",
    "# from IPython.display import Markdown, display"
   ]
  },
  {
   "cell_type": "code",
   "execution_count": 3,
   "metadata": {},
   "outputs": [],
   "source": [
    "TIME_CHUNK_IN_DAYS = 10\n",
    "QUARANTINE_DATE = \"28/09/2018\"\n",
    "quarDataUnix = time.mktime(datetime.datetime.strptime(QUARANTINE_DATE, \"%d/%m/%Y\").timetuple())\n",
    "\n",
    "def getTimeChunkIndex(timeStamp):\n",
    "    timeStamp = float(timeStamp)\n",
    "    timeDiff = timeStamp - quarDataUnix\n",
    "    timeDiffDays = float(timeDiff)/(24*60*60) \n",
    "    chunkIndex = math.floor(timeDiffDays/TIME_CHUNK_IN_DAYS)\n",
    "    return int(chunkIndex)"
   ]
  },
  {
   "cell_type": "code",
   "execution_count": 4,
   "metadata": {},
   "outputs": [],
   "source": [
    "pd.options.display.max_rows = 999\n",
    "\n",
    "pd.set_option('display.max_colwidth', -1)"
   ]
  },
  {
   "cell_type": "code",
   "execution_count": 17,
   "metadata": {},
   "outputs": [],
   "source": [
    "USER_HISTORY_COMMENTS = \"/mnt/storage/quarantine/data/TRP_users_comments\"\n",
    "USER_HISTORY_SUBMISSIONS = \"/mnt/storage/quarantine/data/TRP_users_submissions.csv\"\n",
    "CANDIDATE_CONTROL_SUBREDDITS = \"/mnt/storage/quarantine/data/candidate_control_subs_TRP_users.csv\""
   ]
  },
  {
   "cell_type": "code",
   "execution_count": 6,
   "metadata": {},
   "outputs": [],
   "source": [
    "POST_THRESHOLD = 5"
   ]
  },
  {
   "cell_type": "code",
   "execution_count": 7,
   "metadata": {},
   "outputs": [
    {
     "name": "stderr",
     "output_type": "stream",
     "text": [
      "/nethome/sjhaver3/anaconda3/lib/python3.7/site-packages/ipykernel_launcher.py:14: FutureWarning: Sorting because non-concatenation axis is not aligned. A future version\n",
      "of pandas will change to not sort by default.\n",
      "\n",
      "To accept the future behavior, pass 'sort=False'.\n",
      "\n",
      "To retain the current behavior and silence the warning, pass 'sort=True'.\n",
      "\n",
      "  \n"
     ]
    }
   ],
   "source": [
    "all_files = glob.glob(USER_HISTORY_COMMENTS + \"/*.csv\")\n",
    "\n",
    "li = []\n",
    "\n",
    "# Reading in comments\n",
    "for filename in all_files:\n",
    "    df = pd.read_csv(filename, index_col=None, header=0, usecols = [\"created_utc\", \"subreddit\", \"author\"])\n",
    "    li.append(df)\n",
    "    \n",
    "# Reading in submissions\n",
    "df = pd.read_csv(USER_HISTORY_SUBMISSIONS, index_col=None, header=0, usecols = [\"created_utc\", \"subreddit\", \"author\"])\n",
    "li.append(df)    \n",
    "\n",
    "frame = pd.concat(li, axis=0, ignore_index=True)\n"
   ]
  },
  {
   "cell_type": "code",
   "execution_count": 8,
   "metadata": {},
   "outputs": [],
   "source": [
    "df = frame[frame['created_utc'] < quarDataUnix]\n",
    "dfSubreddits = df.groupby('subreddit')"
   ]
  },
  {
   "cell_type": "code",
   "execution_count": 9,
   "metadata": {},
   "outputs": [],
   "source": [
    "subredditTRPUserCount = {}"
   ]
  },
  {
   "cell_type": "code",
   "execution_count": 10,
   "metadata": {},
   "outputs": [
    {
     "name": "stdout",
     "output_type": "stream",
     "text": [
      "10000\n",
      "20000\n",
      "30000\n"
     ]
    }
   ],
   "source": [
    "count = 0\n",
    "for subreddit, subredditPosts in dfSubreddits:\n",
    "    subredditUsers = subredditPosts.groupby('author')\n",
    "    userCount = 0\n",
    "    for user, group in subredditUsers:\n",
    "        if (len(group) >= POST_THRESHOLD):\n",
    "            userCount += 1\n",
    "    subredditTRPUserCount[subreddit] = userCount\n",
    "    count += 1\n",
    "    if (count % 10000 == 0):\n",
    "        print (count)"
   ]
  },
  {
   "cell_type": "code",
   "execution_count": 11,
   "metadata": {},
   "outputs": [],
   "source": [
    "controlSubreddits = sorted(subredditTRPUserCount, key=subredditTRPUserCount.get, reverse = True)"
   ]
  },
  {
   "cell_type": "code",
   "execution_count": 18,
   "metadata": {
    "scrolled": true
   },
   "outputs": [
    {
     "name": "stdout",
     "output_type": "stream",
     "text": [
      "(\"TheRedPill\",\"asktrp\",\"AskReddit\",\"MGTOW\",\"worldnews\",\"pics\",\"funny\",\"The_Donald\",\"todayilearned\",\"news\",\"politics\",\"Showerthoughts\",\"NoFap\",\"gaming\",\"gifs\",\"videos\",\"AskMen\",\"movies\",\"CringeAnarchy\",\"Braincels\",\"Fitness\",\"seduction\",\"MensRights\",\"Tinder\",\"aww\",\"unpopularopinion\",\"relationship_advice\",\"PurplePillDebate\",\"sex\",\"JordanPeterson\",\"WTF\",\"BlackPeopleTwitter\",\"conspiracy\",\"mildlyinteresting\",\"nba\",\"personalfinance\",\"relationships\",\"technology\",\"soccer\",\"WhereAreAllTheGoodMen\",\"dating_advice\",\"trashy\",\"OldSchoolCool\",\"PoliticalHumor\",\"niceguys\",\"CryptoCurrency\",\"confession\",\"Futurology\",\"hiphopheads\",\"Drugs\",\"nottheonion\",\"interestingasfuck\",\"dankmemes\",\"starterpacks\",\"KotakuInAction\",\"Whatcouldgowrong\",\"television\",\"LifeProTips\",\"pussypassdenied\",\"science\",\"AdviceAnimals\",\"Libertarian\",\"wallstreetbets\",\"changemyview\",\"WhitePeopleTwitter\",\"bodybuilding\",\"NoStupidQuestions\",\"FortNiteBR\",\"IncelTears\",\"MMA\",\"IAmA\",\"watchpeopledie\",\"askMRP\",\"nfl\",\"RoastMe\",\"Jokes\",\"steroids\",\"trees\",\"RedPillWomen\",\"ImGoingToHellForThis\",\"leagueoflegends\",\"Music\",\"milliondollarextreme\",\"thanosdidnothingwrong\",\"4chan\",\"PublicFreakout\",\"marriedredpill\",\"JoeRogan\",\"pcmasterrace\",\"TumblrInAction\",\"MurderedByWords\",\"europe\",\"Nicegirls\",\"ChoosingBeggars\",\"sports\",\"Bitcoin\",\"Conservative\",\"UnethicalLifeProTips\",\"JusticeServed\",\"canada\",\"explainlikeimfive\",\"atheism\",\"greentext\",\"Documentaries\",\"Entrepreneur\",\"wow\",\"financialindependence\",\"tifu\",\"memes\",\"socialskills\",\"Anarcho_Capitalism\",\"UpliftingNews\",\"TwoXChromosomes\",\"TooAfraidToAsk\",\"GetMotivated\",\"Rateme\",\"Nootropics\",\"marvelstudios\",\"insanepeoplefacebook\",\"AskWomen\",\"TrueOffMyChest\",\"Advice\",\"investing\",\"CasualConversation\",\"facepalm\",\"keto\",\"datingoverthirty\",\"AskOuija\",\"mildlyinfuriating\",\"Drama\",\"amiugly\",\"oddlysatisfying\",\"Games\",\"malefashionadvice\",\"SquaredCircle\",\"westworld\",\"PrequelMemes\",\"depression\",\"Overwatch\",\"greatawakening\",\"books\",\"legaladvice\",\"ADHD\",\"StarWars\",\"Wellthatsucks\",\"fantasyfootball\",\"Unexpected\",\"dataisbeautiful\",\"gatekeeping\",\"cars\",\"space\",\"LivestreamFail\",\"confessions\",\"teenagers\",\"iamverysmart\",\"justneckbeardthings\",\"2007scape\",\"MemeEconomy\",\"Brogress\",\"bjj\",\"iamverybadass\",\"Android\",\"natureismetal\",\"sjwhate\",\"Meditation\",\"hearthstone\",\"CrappyDesign\",\"DotA2\",\"Testosterone\",\"WatchPeopleDieInside\",\"apple\",\"fasting\",\"guns\",\"instant_regret\",\"Kanye\",\"nattyorjuice\",\"Ice_Poseidon\",\"assholedesign\",\"loseit\",\"PS4\",\"DeadBedrooms\",\"ForeverAlone\",\"LateStageCapitalism\",\"childfree\",\"gainit\",\"quityourbullshit\",\"dating\",\"fatlogic\",\"leangains\",\"therewasanattempt\",\"iamatotalpieceofshit\",\"motorcycles\",\"samharris\",\"ProgrammerHumor\",\"LSD\",\"progresspics\",\"thatHappened\",\"australia\",\"ShitPoliticsSays\",\"hockey\",\"Damnthatsinteresting\",\"anime\",\"cscareerquestions\",\"Justrolledintotheshop\",\"IdiotsInCars\",\"antiMLM\",\"gonewild\",\"me_irl\",\"metacanada\",\"pcgaming\",\"Frugal\",\"Psychonaut\",\"sadcringe\",\"MaliciousCompliance\",\"NatureIsFuckingLit\",\"Stoicism\",\"CFB\",\"Christianity\",\"Firearms\",\"bestof\",\"buildapc\",\"selfimprovement\",\"vegan\",\"FashionReps\",\"OutOfTheLoop\",\"Piracy\",\"TheBluePill\",\"food\",\"intermittentfasting\",\"truerateme\",\"worldpolitics\",\"pornfree\",\"raisedbynarcissists\",\"2meirl4meirl\",\"Semenretention\",\"bodyweightfitness\",\"philosophy\",\"DunderMifflin\",\"HumansBeingBros\",\"bigdickproblems\",\"AMA\",\"Battlefield\",\"Boxing\",\"Fallout\",\"NintendoSwitch\",\"askwomenadvice\",\"collapse\",\"short\",\"tressless\",\"ukpolitics\",\"PewdiepieSubmissions\",\"baseball\",\"MadeMeSmile\",\"Sneakers\",\"getdisciplined\",\"reactiongifs\",\"unitedkingdom\",\"xboxone\",\"DebateAltRight\",\"Economics\",\"GlobalOffensive\",\"PUBATTLEGROUNDS\",\"The_Mueller\",\"CircleofTrust\",\"ethtrader\",\"AskThe_Donald\",\"OkCupid\",\"weekendgunnit\",\"wholesomememes\",\"ComedyCemetery\",\"Shitstatistssay\",\"nutrition\",\"Guitar\",\"Supplements\",\"TrueReddit\",\"programming\",\"ATBGE\",\"nononono\",\"ChapoTrapHouse\",\"askseddit\",\"blackmagicfuckery\",\"btc\",\"jobs\",\"sales\",\"AskMenOver30\",\"BikiniBottomTwitter\",\"MapPorn\",\"kratom\",\"rant\",\"trashyboners\",\"BetterEveryLoop\",\"Divorce\",\"OnePiece\",\"Rainbow6\",\"gundeals\",\"leaves\",\"stocks\",\"BitcoinMarkets\",\"india\",\"inthesoulstone\",\"Art\",\"BeAmazed\",\"DebateFascism\",\"INTP\",\"MovieDetails\",\"beholdthemasterrace\",\"formula1\",\"AskRedditAfterDark\",\"Cooking\",\"Watches\",\"casualiama\",\"im14andthisisdeep\",\"morbidquestions\",\"worldcup\",\"zerocarb\",\"EarthPorn\",\"MorbidReality\",\"Roadcam\",\"occult\",\"techsupport\",\"youseeingthisshit\",\"Bad_Cop_No_Donut\",\"BreakUps\",\"CCW\",\"DestinyTheGame\",\"MGTOW2\",\"Warframe\",\"cringe\",\"gadgets\",\"hmmm\",\"holdmycosmo\",\"learnprogramming\",\"nonononoyes\",\"opiates\",\"sysadmin\",\"woahdude\",\"AskAnAmerican\",\"CapitalismVSocialism\",\"SkincareAddiction\",\"poker\",\"progun\",\"teslamotors\",\"Catholicism\",\"DarkEnlightenment\",\"exmuslim\",\"lostgeneration\",\"nyc\",\"stopdrinking\",\"Amd\",\"DeepFriedMemes\",\"patientgamers\",\"witcher\",\"AmItheAsshole\",\"IWantToLearn\",\"KidsAreFuckingStupid\",\"SargonofAkkad\",\"StreetFights\",\"SubredditDrama\",\"creepyPMs\",\"cringepics\",\"dankchristianmemes\",\"gtaonline\",\"iphone\",\"magicTCG\",\"malehairadvice\",\"smashbros\",\"tipofmytongue\",\"whiteknighting\",\"whowouldwin\",\"4PanelCringe\",\"CatastrophicFailure\",\"Marriage\",\"NoMansSkyTheGame\",\"ShittyLifeProTips\",\"WeAreTheMusicMakers\",\"army\",\"comics\",\"forwardsfromgrandma\",\"golf\",\"justlegbeardthings\",\"malelivingspace\",\"rickandmorty\",\"Anxiety\",\"AskDocs\",\"ProRevenge\",\"askscience\",\"gardening\",\"jailbreak\",\"linux\",\"martialarts\",\"whatisthisthing\",\"Accounting\",\"MechanicAdvice\",\"OSHA\",\"OopsDidntMeanTo\",\"PersonalFinanceCanada\",\"dbz\",\"freefolk\",\"harrypotter\",\"history\",\"islam\",\"lifehacks\",\"webdev\",\"weedstocks\",\"China\",\"IASIP\",\"RPChristians\",\"RocketLeague\",\"ketogains\",\"lawofattraction\",\"rage\",\"CasualUK\",\"DMT\",\"ExNoContact\",\"HistoryMemes\",\"SuicideWatch\",\"lakers\",\"pathofexile\",\"privacy\",\"skyrim\",\"toronto\",\"totalwar\",\"writing\",\"Animemes\",\"Bossfight\",\"CrazyIdeas\",\"DnD\",\"GoldandBlack\",\"NBA2k\",\"WritingPrompts\",\"business\",\"forhonor\",\"gameofthrones\",\"hapas\",\"mexico\",\"naturalbodybuilding\",\"streetwear\",\"summonerschool\",\"Eminem\",\"LosAngeles\",\"PoliticalDiscussion\",\"TopMindsOfReddit\",\"Trufemcels\",\"YouShouldKnow\",\"cats\",\"darkjokes\",\"electronic_cigarette\",\"h3h3productions\",\"horror\",\"newzealand\",\"phenibut\",\"self\",\"subredditcancer\",\"ufc\",\"virginvschad\",\"walkaway\",\"ClashRoyale\",\"EatCheapAndHealthy\",\"GodofWar\",\"MovieSuggestions\",\"Shitty_Car_Mods\",\"heroesofthestorm\",\"instantkarma\",\"ireland\",\"nvidia\",\"shrooms\",\"smallbusiness\",\"thalassophobia\",\"vancouver\",\"whitepeoplegifs\",\"HomeImprovement\",\"IsItBullshit\",\"StarWarsBattlefront\",\"frugalmalefashion\",\"holdmybeer\",\"intj\",\"powerlifting\",\"researchchemicals\",\"survivinginfidelity\",\"Austin\",\"BuyItForLife\",\"EDC\",\"Flipping\",\"MURICA\",\"Naruto\",\"RimWorld\",\"UnresolvedMysteries\",\"announcements\",\"badwomensanatomy\",\"buildapcsales\",\"college\",\"coolguides\",\"cursedimages\",\"de\",\"halo\",\"madlads\",\"reddevils\",\"starcitizen\",\"AskEngineers\",\"C_S_T\",\"DecidingToBeBetter\",\"EngineeringStudents\",\"Eyebleach\",\"GamersRiseUp\",\"Gunners\",\"MDMA\",\"MMORPG\",\"PEDs\",\"PUBGMobile\",\"PussyPass\",\"Stims\",\"TrueChristian\",\"ar15\",\"argentina\",\"battlestations\",\"brasil\",\"britishproblems\",\"comicbooks\",\"meirl\",\"nostalgia\",\"ontario\",\"pettyrevenge\",\"pokemon\",\"Atlanta\",\"Buttcoin\",\"Marvel\",\"StackAdvice\",\"Vechain\",\"amateur_boxing\",\"askgaybros\",\"beards\",\"digitalnomad\",\"drunk\",\"fragrance\",\"gunpolitics\",\"howtonotgiveafuck\",\"pokemongo\",\"AnimalsBeingBros\",\"BPDlovedones\",\"CBD\",\"Competitiveoverwatch\",\"DebateReligion\",\"DoesAnybodyElse\",\"FellowKids\",\"GifRecipes\",\"IllegalLifeProTips\",\"LiverpoolFC\",\"LucidDreaming\",\"SweatyPalms\",\"Warhammer40k\",\"blunderyears\",\"entp\",\"ethereum\",\"exmormon\",\"fakehistoryporn\",\"nSuns\",\"oculus\",\"opieandanthony\",\"povertyfinance\",\"productivity\",\"tattoos\",\"tennis\",\"Blackops4\",\"CollegeBasketball\",\"CombatFootage\",\"DIY\",\"EliteDangerous\",\"Parenting\",\"Steam\",\"StopGaming\",\"TheNewRight\",\"aznidentity\",\"battlefield_one\",\"edmproduction\",\"france\",\"leanfire\",\"makinghiphop\",\"manga\",\"scifi\",\"socialanxiety\",\"solotravel\",\"uberdrivers\",\"vandwellers\",\"AirForce\",\"Buddhism\",\"DC_Cinematic\",\"FunnyandSad\",\"Military\",\"OverwatchUniversity\",\"Patriots\",\"PeopleFuckingDying\",\"ScottishPeopleTwitter\",\"TrollXChromosomes\",\"Trumpgret\",\"antinatalism\",\"betterCallSaul\",\"creepyasterisks\",\"darksouls\",\"houston\",\"melbourne\",\"neoliberal\",\"sweden\",\"thewalkingdead\",\"truegaming\",\"woodworking\",\"AsianMasculinity\",\"BattleOfTheSexes\",\"BattlefieldV\",\"DataHoarder\",\"Guildwars2\",\"MealPrepSunday\",\"MonsterHunter\",\"NSFW_GIF\",\"ProtectAndServe\",\"Ripple\",\"Thailand\",\"adultery\",\"answers\",\"aspergers\",\"audioengineering\",\"careerguidance\",\"creepy\",\"holdmyfries\",\"mbti\",\"sportsbook\",\"sydney\",\"syriancivilwar\",\"40kLore\",\"BMW\",\"Cyberpunk\",\"Destiny\",\"DiWHY\",\"EscapefromTarkov\",\"FIFA\",\"Justfuckmyshitup\",\"Philippines\",\"SocialJusticeInAction\",\"bayarea\",\"bicycling\",\"bipolar\",\"educationalgifs\",\"farcry\",\"happy\",\"infp\",\"ketorecipes\",\"math\",\"nintendo\",\"reddeadredemption\",\"sandiego\",\"shittyfoodporn\",\"starcraft\",\"suggestmeabook\",\"travel\",\"warriors\",\"weed\",\"wowthanksimcured\",\"ANormalDayInRussia\",\"AnimalsBeingJerks\",\"AskTrumpSupporters\",\"CrusaderKings\",\"FantasyPL\",\"FoodPorn\",\"GirlsMirin\",\"Glitch_in_the_Matrix\",\"Incelselfies\",\"MuayThai\",\"Portland\",\"Romania\",\"TheExpanse\",\"aviation\",\"chicago\",\"enoughpetersonspam\",\"ihavesex\",\"languagelearning\",\"learnpython\",\"liberalgunowners\",\"medicine\",\"minimalism\",\"nanocurrency\",\"photography\",\"preppers\",\"sexover30\",\"sociopath\",\"AskFeminists\",\"Cricket\",\"DesignPorn\",\"EnoughInternet\",\"FloridaMan\",\"Frat\",\"GooglePixel\",\"IWantOut\",\"MLS\",\"RealEstate\",\"SandersForPresident\",\"TheSilphRoad\",\"anime_irl\",\"findareddit\",\"fo76\",\"gamedev\",\"medicalschool\",\"mountandblade\",\"nevertellmetheodds\",\"offmychest\",\"psychology\",\"runescape\",\"startrek\",\"stopsmoking\",\"thesopranos\",\"AbandonedPorn\",\"Animesuggest\",\"ApplyingToCollege\",\"AsiansGoneWild\",\"EverythingScience\",\"FinancialCareers\",\"GameDeals\",\"ITCareerQuestions\",\"IncelsWithoutHate\",\"MechanicalKeyboards\",\"Metalcore\",\"NSFWIAMA\",\"SequelMemes\",\"ShingekiNoKyojin\",\"WayOfTheBern\",\"awakened\",\"bestoflegaladvice\",\"boardgames\",\"churning\",\"circlejerk\",\"darksouls3\",\"dontdeadopeninside\",\"dragonballfighterz\",\"eu4\",\"fo4\",\"microgrowery\",\"netflix\",\"popping\",\"r4r\",\"startups\",\"sugarlifestyleforum\",\"thinkpad\",\"tumblr\",\"vaporents\",\"weightroom\",\"woooosh\",\"AJelqForYou\",\"AskScienceFiction\",\"BDSMcommunity\",\"ElderScrolls\",\"EqualAttraction\",\"Eve\",\"ExpectationVsReality\",\"FORTnITE\",\"Feminism\",\"KitchenConfidential\",\"MensLib\",\"Minecraft\",\"NSFWFunny\",\"PUBGXboxOne\",\"Paranormal\",\"Repsneakers\",\"RobinHood\",\"Tendies\",\"UnpopularOpinions\",\"Vaping\",\"Warthunder\",\"assassinscreed\",\"blackpeoplegifs\",\"bloodborne\",\"boottoobig\",\"carporn\",\"classicwow\",\"crappyoffbrands\",\"economy\",\"entertainment\",\"factorio\",\"hardware\",\"kingdomcome\",\"lotr\",\"ofcoursethatsathing\",\"pawg\",\"rarepuppers\",\"running\",\"singapore\",\"sixers\",\"softwaregore\",\"tall\",\"techsupportgore\",\"terriblefacebookmemes\",\"travisscott\",\"Aquariums\",\"AskNYC\",\"Autos\",\"BPD\",\"Bumble\",\"Cartalk\",\"DesignerReps\",\"HistoryPorn\",\"IdiotsFightingThings\",\"KingdomHearts\",\"Monero\",\"PropagandaPosters\",\"ShitAmericansSay\",\"SocialEngineering\",\"StreetFighter\",\"Stronglifts5x5\",\"SuddenlyGay\",\"TheLastAirbender\",\"Turkey\",\"USMC\",\"XXXTENTACION\",\"Xiaomi\",\"bostonceltics\",\"disneyvacation\",\"elderscrollsonline\",\"eos\",\"evilbuildings\",\"fatpeoplestories\",\"google\",\"italy\",\"linuxmasterrace\",\"newjersey\",\"nosleep\",\"philadelphia\",\"phoenix\",\"playrust\",\"portugal\",\"worldbuilding\",\"youtubehaiku\",\"1200isplenty\",\"AccidentalRacism\",\"Anticonsumption\",\"Berserk\",\"BokuNoHeroAcademia\",\"COMPLETEANARCHY\",\"Celebs\",\"CompetitiveHS\",\"CozyPlaces\",\"CryptoMarkets\",\"EDM\",\"FlashTV\",\"Madden\",\"MilitaryPorn\",\"PUBG\",\"RedLetterMedia\",\"RussiaLago\",\"SCP\",\"StockMarket\",\"The30DayChallenge\",\"The_Congress\",\"WWE\",\"WWII\",\"bakchodi\",\"barstoolsports\",\"clevelandcavs\",\"coldshowers\",\"cowboys\",\"cyberpunkgame\",\"dayz\",\"esist\",\"fantasybaseball\",\"gaybros\",\"gentlemanboners\",\"hardwareswap\",\"infj\",\"introvert\",\"japan\",\"learnmath\",\"london\",\"marketing\",\"mechanical_gifs\",\"mentalhealth\",\"nosurf\",\"pakistan\",\"savedyouaclick\",\"southpark\",\"specializedtools\",\"texas\",\"thenetherlands\",\"xxfitness\",\"3Dprinting\",\"AFL\",\"AusFinance\",\"BustyPetite\",\"California\",\"Fishing\",\"FortniteCompetitive\",\"FrankOcean\",\"Gamingcirclejerk\",\"IndiaSpeaks\",\"MandelaEffect\",\"MoviePassClub\",\"NYKnicks\",\"NYYankees\",\"NotHowDrugsWork\",\"NotMyJob\",\"Psychic\",\"QuotesPorn\",\"Seaofthieves\",\"Seattle\",\"SeattleWA\",\"Standup\",\"Tekken\",\"UFOs\",\"Vive\",\"afinil\",\"blackdesertonline\",\"chelseafc\",\"chess\",\"cocaine\",\"copypasta\",\"customhearthstone\",\"drawing\",\"elonmusk\",\"environment\",\"gifsthatkeepongiving\",\"goddesses\",\"holdmyfeedingtube\",\"howardstern\",\"leafs\",\"microdosing\",\"okbuddyretard\",\"oldpeoplefacebook\",\"premed\",\"sanfrancisco\",\"simpleliving\",\"skeptic\",\"socialism\",\"southafrica\",\"streetwearstartup\",\"tf2\",\"trapproduction\",\"vexillology\",\"youtube\",\"AppleWatch\",\"AskCulinary\",\"BlueMidterm2018\",\"BoJackHorseman\",\"CHIBears\",\"CPTSD\",\"DCcomics\",\"FL_Studio\",\"Filmmakers\",\"GenderCritical\",\"HighQualityGifs\",\"MonsterHunterWorld\",\"Physics\",\"RealmRoyale\",\"Stellaris\",\"TheWeeknd\",\"TrueDoTA2\",\"UKPersonalFinance\",\"Ubuntu\",\"WhatsWrongWithYourDog\",\"WhyWereTheyFilming\",\"WorldofTanks\",\"bald\",\"blackmirror\",\"boston\",\"boxoffice\",\"chemistry\",\"cripplingalcoholism\",\"dogs\",\"excel\",\"ffxiv\",\"flying\",\"geopolitics\",\"germany\",\"gpumining\",\"homegym\",\"indianpeoplefacebook\",\"japancirclejerk\",\"moviescirclejerk\",\"polyamory\",\"quotes\",\"raimimemes\",\"rockets\",\"slatestarcodex\",\"supremeclothing\",\"svenskpolitik\",\"teenagersnew\",\"theydidthemath\",\"vinyl\",\"weightlifting\",\"yesyesyesyesno\",\"zen\",\"ABCDesis\",\"ABoringDystopia\",\"AmISexy\",\"BigBrother\",\"BlackPillScience\",\"CalamariRaceTeam\",\"CanadaPolitics\",\"CrackWatch\",\"DBZDokkanBattle\",\"Ebay\",\"Fantasy\",\"GreenBayPackers\",\"IDontWorkHereLady\",\"Izlam\",\"Jordan_Peterson_Memes\")\n"
     ]
    }
   ],
   "source": [
    "candidateSubs = []\n",
    "quot = \"\\\"\"\n",
    "text = \"\"\n",
    "sl = []\n",
    "for subreddit in controlSubreddits[0:1000]:\n",
    "    su = subredditTRPUserCount[subreddit]\n",
    "    if (su > 5):\n",
    "        text = text + quot + subreddit + quot + \",\"\n",
    "        candidateSubs.append([subreddit, su])\n",
    "lb = \"(\"\n",
    "rb = \")\"\n",
    "print (lb + text[:-1] + rb)"
   ]
  },
  {
   "cell_type": "code",
   "execution_count": 20,
   "metadata": {},
   "outputs": [],
   "source": [
    "candidateSubsDf = pd.DataFrame(candidateSubs, columns=[\"Subreddit\", \"TRP_users\"])"
   ]
  },
  {
   "cell_type": "code",
   "execution_count": 21,
   "metadata": {},
   "outputs": [],
   "source": [
    "candidateSubsDf.to_csv(CANDIDATE_CONTROL_SUBREDDITS, index=False)"
   ]
  }
 ],
 "metadata": {
  "kernelspec": {
   "display_name": "Python 3",
   "language": "python",
   "name": "python3"
  },
  "language_info": {
   "codemirror_mode": {
    "name": "ipython",
    "version": 3
   },
   "file_extension": ".py",
   "mimetype": "text/x-python",
   "name": "python",
   "nbconvert_exporter": "python",
   "pygments_lexer": "ipython3",
   "version": "3.7.0"
  }
 },
 "nbformat": 4,
 "nbformat_minor": 2
}
